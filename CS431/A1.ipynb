{
  "cells": [
    {
      "cell_type": "markdown",
      "metadata": {
        "id": "YLRqn3y2NfJi"
      },
      "source": [
        "## CS431/631 Big Data Infrastructure\n",
        "### Winter 2023 - Assignment 1\n",
        "---"
      ]
    },
    {
      "cell_type": "markdown",
      "metadata": {
        "id": "K2dtUlLTNfJl"
      },
      "source": [
        "**Please edit this (text) cell to provide your name and UW student ID number!**\n",
        "* **Name:** Ananya Trivedi\n",
        "* **ID:** 20874394"
      ]
    },
    {
      "cell_type": "markdown",
      "metadata": {
        "id": "z3DCzT-rNfJm"
      },
      "source": [
        "---\n",
        "#### Overview\n",
        "For this assignment, you will be using Python to analyze the [pointwise mutual information (PMI)](http://en.wikipedia.org/wiki/Pointwise_mutual_information) of tokens in the text of Shakespeare's plays.    For this assignment, you will need the same text file (`Shakespeare.txt`) that you used for Assignment 0.   You will also need the Python tokenizer module, `simple_tokenize.py`.\n",
        "\n",
        "If two events $x$ and $y$ are independent, their PMI will be zero.   A positive PMI indicates that $x$ and $y$ are more likely to co-occur than they would be if they were independent.   Similarly, a negative PMI indicates that $x$ and $y$ are less likely to co-occur.   The PMI of events $x$ and $y$ is given by\n",
        "\\begin{equation*}\n",
        "PMI(x,y) = \\log\\frac{p(x,y)}{p(x)p(y)}\n",
        "\\end{equation*}\n",
        "where $p(x)$ and $p(y)$ are the probabilities of occurrence of events $x$ and $y$, and $p(x,y)$ is the probability of co-occurrence of $x$ and $y$.\n",
        "\n",
        "For this assignment, the \"events\" that we are interested in are occurrences of tokens on lines of text in the input file.   For example, one event\n",
        "might represent the occurence of the token \"fire\" a line of text, and another might represent the occurrence of the token \"peace\".   In that case, $p(fire)$ represents the probability that \"fire\" will occur on a line of text, and $p(fire,peace)$ represents the probability that *both* \"fire\" and \"peace\" will occur on the *same* line.   For the purposes of these PMI computations, it does not matter how many times a given token occures on a single line.   Either a line contains a particular token (at least once), or it does not.   For example, consider this line of text:\n",
        "\n",
        "> three three three, said thrice\n",
        "\n",
        "For this line, the following token-pair events have occurred:\n",
        "- (three, said)\n",
        "- (three, thrice)\n",
        "- (said, three)\n",
        "- (said, thrice)\n",
        "- (thrice, three)\n",
        "- (thrice, said)\n",
        "\n",
        "Note that we are not interested in \"reflexive\" pairs, such as (thrice,thrice).\n",
        "\n",
        "In addition to the probabilities of events, we will also be interested in the absolute *number* of occurences of particular events, e.g., the number of lines in which \"fire\" occurs.   We will use $n(x)$ to represent the these numbers.\n",
        "\n",
        "Your main task for this assignment is to write Python code to analyze the PMI of tokens from Shakespeare's plays.    Based this analysis, we want to be able to answer two types of queries:\n",
        "\n",
        "* Two-Token Queries: Given a pair of tokens, $x$ and $y$, report the number of lines on which that pair co-occurs ($n(x,y)$) as well as $PMI(x,y)$.\n",
        "* One-Token Queries: Given a single token, $x$, report the number of lines on which that token occurs ($n(x)$).   In addition, report the five tokens that have the largest PMI with respect to $x$ (and their PMIs).   That is, report the five $y$'s for which $PMI(x,y)$ is largest.\n",
        "\n",
        "To avoid reporting spurious results for the one-token queries, we are only interested in token pairs that co-occur a sufficient number of times.   Therefore, we will use a *threshold* parameter for one-token queries.   A one-token query should only report pairs of tokens that co-occur at least *threshold* times in the input.   For example, given the threshold 12, a one-token query for \"fire\" the should report the five tokens that have the largest PMI (with respect to \"fire\") among all tokens that co-occur with \"fire\" on at least 12 lines.   If there are fewer than five such tokens, report fewer than five.\n",
        "\n"
      ]
    },
    {
      "cell_type": "markdown",
      "metadata": {
        "id": "pBJ1H1i_ENGE"
      },
      "source": [
        "Run the next block to download the text file (`Shakespeare.txt`) and the Python tokenizer module (`simple_tokenize.py`)."
      ]
    },
    {
      "cell_type": "code",
      "execution_count": 3,
      "metadata": {
        "id": "rcXDTtuqENqF"
      },
      "outputs": [],
      "source": [
        "!wget -q https://student.cs.uwaterloo.ca/~cs451/content/cs431/Shakespeare.txt\n",
        "!wget -q https://student.cs.uwaterloo.ca/~cs451/content/cs431/simple_tokenize.py"
      ]
    },
    {
      "cell_type": "markdown",
      "metadata": {
        "id": "BVFO1bonNfJo"
      },
      "source": [
        "---\n",
        "#### Question 1  (2/10 marks):\n",
        "\n",
        "Before writing code to handle the PMI queries, start writing some code to answer some simpler questions that give an\n",
        "idea of how big the PMI analysis problem will be.   The box below contains some starter code that reads in the 'Shakespeare.txt' file and tokenizes it one line at time.   (This is the same code you started with for Assignment 0.)  Extend this code to determine (a) the number of *distinct* tokens that exist in 'Shakespeare.txt', and (b) the number of\n",
        "*distinct* token pairs that exist in 'Shakespeare.txt'.  For the purposes of this question, consider the token pair $x,y$ to be distinct from the pair $y,x$, i.e., count them both.   Ignore token pairs of the form $x,x$. Note that we're considering things one line at a time, so the number of unique pairs is NOT (n)(n-1) where n is the number of unique tokens! If a line is \"this is fine\" then there are 6 distinct pairs on that line.\n",
        "\n",
        "As a sanity check, when rounded you should be getting ~26K distinct tokens and ~2M distinct pairs. (Please remember I ROUNDED so e..g if you say \"I got 1.9M is that OK\" then I will worry about you)"
      ]
    },
    {
      "cell_type": "code",
      "execution_count": 4,
      "metadata": {
        "collapsed": true,
        "id": "AWP7tAfsNfJp",
        "colab": {
          "base_uri": "https://localhost:8080/"
        },
        "outputId": "0da2d1d9-bdee-4724-d5a8-694fc1db207f"
      },
      "outputs": [
        {
          "output_type": "stream",
          "name": "stdout",
          "text": [
            "Number of distinct tokens: 25975\n",
            "Number of distinct token pairs: 1969760\n"
          ]
        }
      ],
      "source": [
        "# this imports the SimpleTokenize function from the simple_tokenize.py file that you uploaded\n",
        "from simple_tokenize import simple_tokenize\n",
        "from itertools import combinations\n",
        "\n",
        "tokens = set()\n",
        "pairs = set()\n",
        "\n",
        "with open('Shakespeare.txt') as f:\n",
        "    for line in f:\n",
        "        t = simple_tokenize(line)\n",
        "\n",
        "        # add each token to the set of distinct tokens\n",
        "        tokens.update(t)\n",
        "\n",
        "        # all possible token pairs for the line\n",
        "        for pair in combinations(t, 2):\n",
        "            # ignore (x, x)\n",
        "            if pair[0] != pair[1]:\n",
        "                # add both (x, y) and (y, x) to the set\n",
        "                pairs.add(pair)\n",
        "                pairs.add((pair[1], pair[0]))\n",
        "print(f\"Number of distinct tokens: {len(tokens)}\")\n",
        "print(f\"Number of distinct token pairs: {len(pairs)}\")\n",
        "\n",
        "# extend this code to answer Question 1.\n",
        "# when your code is executed, it should print the number of distinct tokens and the number of distinct token pairs"
      ]
    },
    {
      "cell_type": "markdown",
      "metadata": {
        "id": "PpFi9CxkNfJq"
      },
      "source": [
        "---\n",
        "\n",
        "#### Question 2 (6/10 marks):\n",
        "Next, write Python code to answer the one-token and two-token queries described above, for 'Shakespeare.txt'.   The code cell below contains some starter code that implements a simple text-based query interface.  It allows a user to ask a series of one-token or two-token queries.   Try running the starter code to get a sense of how the interface behaves.    \n",
        "\n",
        "Your task is to write code to read and tokenize 'Shakespeare.txt', record information that will allow both types of PMI queries to be answered, and then answer queries that are posed through the query interface.  Make sure that your code is well commented, so that it will be clear to the markers.\n",
        "\n",
        "If you cannot get answers to both types of queries working, try to get at least one type working, for partial credit.\n",
        "\n",
        "Please appropriately handle cases where the token being queried isn't in the file. Print an appropriate error message and continue reading input.\n",
        "(We won't mark the text of your error messages, but it's bad practice to crash if someone has a typo)\n",
        "\n",
        "Sanity checks:\n",
        "\n",
        "```\n",
        "Input 1 or 2 space-separated tokens (return to quit): the end\n",
        "n(the,end) = 157\n",
        "PMI(the,end) = 0.3505058356267105\n",
        "```\n",
        "\n",
        "If you got n=147 then you didn't use `simple_tokenize()`, you used `split()` and were thrown off by puntuation and capitlization.\n",
        "\n",
        "(If you haven't been told this before, floating point numbers are inexact. You do not need to get exactly those digits, but should match at least 4 of them! Make sure you used log base 10)\n",
        "\n",
        "If your PMI is 2.9ish then you probably are counting how many times each token occurrs rather than how many LINES contain that token.\n",
        "\n",
        "Because of the phrase \"at rope's end\", you should also expect that \"rope's\" doesn't really show up outside this phrase, so it will have a high PMI with \"end\".\n",
        "\n",
        "```\n",
        "n(end,rope's) = 5, PMI(end,rope's) = 2.5ish\n",
        "```\n"
      ]
    },
    {
      "cell_type": "code",
      "execution_count": 11,
      "metadata": {
        "id": "3of7ltFENfJr",
        "colab": {
          "base_uri": "https://localhost:8080/"
        },
        "outputId": "35cd8dbc-2655-4d36-ea55-492514d6b01c"
      },
      "outputs": [
        {
          "name": "stdout",
          "output_type": "stream",
          "text": [
            "Input 1 or 2 space-separated tokens (return to quit): the\n",
            "Input a positive integer frequency threshold: 4\n",
            "  n(the) = 24300\n",
            "  high PMI tokens with respect to the (threshold: 4):\n",
            "    n(the, proudest) = 14, PMI(the, proudest) = 0.70238\n",
            "    n(the, calendar) = 7, PMI(the, calendar) = 0.70238\n",
            "    n(the, bee) = 10, PMI(the, bee) = 0.70238\n",
            "    n(the, ninth) = 7, PMI(the, ninth) = 0.70238\n",
            "    n(the, thracian) = 5, PMI(the, thracian) = 0.70238\n",
            "Input 1 or 2 space-separated tokens (return to quit): the end\n",
            "  n(the, end) = 157\n",
            "  PMI(the, end) = 0.35051\n",
            "Input 1 or 2 space-separated tokens (return to quit): \n"
          ]
        }
      ],
      "source": [
        "# this imports the SimpleTokenize function from the simple_tokenize.py file that you uploaded\n",
        "from simple_tokenize import simple_tokenize\n",
        "# the log function for computing PMI\n",
        "# for the sake of consistency across solutions, please use log base 10\n",
        "from math import log\n",
        "from itertools import combinations\n",
        "from collections import defaultdict\n",
        "\n",
        "# Data structures\n",
        "nx = defaultdict(int)  # To store n(x)\n",
        "nxy = defaultdict(int)   # To store n(x, y)\n",
        "line_count = 0           # Total number of lines\n",
        "\n",
        "# Read and process the Shakespeare.txt file\n",
        "with open('Shakespeare.txt') as f:\n",
        "    for line in f:\n",
        "        line_count += 1\n",
        "        tokens = set(simple_tokenize(line))  # Tokenize and remove duplicates in the line\n",
        "\n",
        "        # Update the count for each token\n",
        "        for token in tokens:\n",
        "            nx[token] += 1\n",
        "\n",
        "        # Update the count for each token pair\n",
        "        for pair in combinations(tokens, 2):\n",
        "            nxy[pair] += 1\n",
        "            nxy[(pair[1], pair[0])] += 1  # Add both (x, y) and (y, x)\n",
        "\n",
        "# PMI calculation function\n",
        "def pmi_calculation(x, y, nx, nxy, line_count):\n",
        "    if x not in nx or y not in nx:\n",
        "        return None\n",
        "\n",
        "    NX = nx[x]\n",
        "    NY = nx[y]\n",
        "    NXY = nxy.get((x, y), 0)\n",
        "\n",
        "    if NXY == 0:\n",
        "        return None\n",
        "\n",
        "    PX = NX / line_count\n",
        "    PY = NY / line_count\n",
        "    PXY = NXY / line_count\n",
        "\n",
        "    pmi = log(PXY / (PX * PY), 10)\n",
        "    return pmi\n",
        "\n",
        "# One-token query function\n",
        "def one_token(x, threshold, nx, nxy, line_count):\n",
        "    if x not in nx:\n",
        "        return f\"Token '{x}' not found in file\"\n",
        "\n",
        "    NX = nx[x]\n",
        "    pmi_vals = []\n",
        "    for y in nx:\n",
        "        if y != x:  # Ignore reflexive pairs (x, x)\n",
        "            pmi = pmi_calculation(x, y, nx, nxy, line_count)\n",
        "            if pmi is not None and nxy[(x, y)] >= threshold:\n",
        "                pmi_vals.append((y, pmi, nxy[(x, y)]))\n",
        "\n",
        "    pmi_vals.sort(key=lambda pair: pair[1], reverse=True)\n",
        "    top5pmi = pmi_vals[:5]\n",
        "\n",
        "    return NX, top5pmi\n",
        "\n",
        "# Two-token query function\n",
        "def two_token(x, y, nx, nxy, line_count):\n",
        "    if x not in nx or y not in nx:\n",
        "        return None, None\n",
        "\n",
        "    NXY = nxy.get((x, y), 0)\n",
        "    if NXY == 0:\n",
        "        return NXY, None\n",
        "\n",
        "    pmi = pmi_calculation(x, y, nx, nxy, line_count)\n",
        "    return NXY, pmi\n",
        "\n",
        "\n",
        "while True:\n",
        "    q = input(\"Input 1 or 2 space-separated tokens (return to quit): \")\n",
        "    if len(q) == 0:\n",
        "        break\n",
        "    q_tokens = simple_tokenize(q)\n",
        "\n",
        "    if len(q_tokens) == 1:\n",
        "        threshold = 0\n",
        "        while threshold <= 0:\n",
        "            try:\n",
        "                threshold = int(input(\"Input a positive integer frequency threshold: \"))\n",
        "            except ValueError:\n",
        "                print(\"Threshold must be a positive integer!\")\n",
        "                continue\n",
        "\n",
        "        # ONE TOKEN QUERY:\n",
        "        NX, top5pmi = one_token(q_tokens[0], threshold, nx, nxy, line_count)\n",
        "\n",
        "        # Output result in the format of the print statements\n",
        "        print(\"  n({}) = {}\".format(q_tokens[0], NX))\n",
        "        print(\"  high PMI tokens with respect to {} (threshold: {}):\".format(q_tokens[0], threshold))\n",
        "\n",
        "        for i, (token, pmi, NXY) in enumerate(top5pmi):\n",
        "            print(\"    n({}, {}) = {}, PMI({}, {}) = {:.5f}\".format(q_tokens[0], token, NXY, q_tokens[0], token, pmi))\n",
        "\n",
        "    elif len(q_tokens) == 2:\n",
        "        # TWO TOKEN QUERY:\n",
        "        NXY, pmi = two_token(q_tokens[0], q_tokens[1], nx, nxy, line_count)\n",
        "        if NXY:\n",
        "            print(\"  n({}, {}) = {}\".format(q_tokens[0], q_tokens[1], NXY))  # Both tokens\n",
        "            print(\"  PMI({}, {}) = {:.5f}\".format(q_tokens[0], q_tokens[1], pmi))  # PMI value\n",
        "        else:\n",
        "            print(f\"Tokens '{q_tokens[0]}' and '{q_tokens[1]}' do not co-occur.\")\n",
        "\n",
        "    else:\n",
        "        print(\"Input must consist of 1 or 2 space-separated tokens!\")\n"
      ]
    },
    {
      "cell_type": "markdown",
      "metadata": {
        "id": "4zjE_iW6NfJt"
      },
      "source": [
        "---\n",
        "\n",
        "#### Question 3 (2/10 marks):\n",
        "\n",
        "Suppose that you try to run your PMI analysis on larger files:  say, 10 times, or 100 times, or 1000 times larger than 'Shakespeare.txt'.    As the input file grows larger, what will happen to the execution of your program?   Will it get slower?   How much slower?   Will it eventually fail to run?   If so, why?\n",
        "\n",
        "Consider two seperate parts: The initial processing of the file, and then the time required to run the queries themselves.\n",
        "(If you did not do any initial processing and reloaded everything for each query, then please go fix that, that's not okay.)\n",
        "\n",
        "\n",
        "In the cell below, briefly (one or two paragraphs), discuss what will happen if the input to your analysis grows.  We're not looking for an exact or empirical analysis of the behaviour of your program as a function of input size.  Rather, we are looking for a discussion of trends and limits.\n",
        "\n",
        "(Tip since we probably haven't got that far in lectures yet: Vocabulary size for a document actually grows unbounded, proportional to the log of the document size!)"
      ]
    },
    {
      "cell_type": "markdown",
      "metadata": {
        "id": "4SVhvS1tNfJu"
      },
      "source": [
        "#### Answer to Question 3:\n",
        "\n",
        "Let us break down the code into components and analyze how the execution would change if we try to run the PMI analysis on larger files.\n",
        "\n",
        "Initial Processing of the File:\n",
        "For each line, we are extracting the tokens; its execution depends on the number of tokens in the line. For each token:\n",
        "*   we update the `nx` dictionary (which takes `O(1)` time per token T, which takes `O(T)` time)\n",
        "*   and also the `nyx` dictionary (with a total of `T*(T-1)/2` pairs formed from T tokens, which is ~`O(T^2)` pairs).\n",
        "\n",
        "\n",
        "Now let us consider the overall complexity. Let's say we have a total of `N` lines in the file. The total complexity will then be `O(NT^2)` where T is the average number of tokens per line (vocabulary size or the number of distinct tokens)\n",
        "\n",
        "This means that for each line, the time to update token counts (`nx`) is `O(T)`, and the time to update pair counts (`nxy`) is `O(T^2)`. Summing this over all N lines, the overall time complexity for the initial processing step is `O(NT^2)`.\n",
        "\n",
        "T does not increase linearly with the document size. As mentioned in the question, vocabulary size grows sublinearly, roughly proportional to the logarithm of the document size. So, as the document size increases, T will grow, but at a slower rate than the number of lines N."
      ]
    },
    {
      "cell_type": "markdown",
      "metadata": {
        "id": "Vsr1IWaDNfJu"
      },
      "source": [
        "---\n",
        "Don't forget to save your workbook!   (It's a good idea to do this regularly, while you are working.)   When you are finished and you are ready to submit your assignment, download your notebook file (.ipynb) from the hub to your machine, and then follow the submission instructions in the assignment."
      ]
    },
    {
      "cell_type": "code",
      "source": [],
      "metadata": {
        "id": "qPsNLELCGKpv"
      },
      "execution_count": null,
      "outputs": []
    }
  ],
  "metadata": {
    "colab": {
      "provenance": []
    },
    "kernelspec": {
      "display_name": "Python 3",
      "language": "python",
      "name": "python3"
    },
    "language_info": {
      "codemirror_mode": {
        "name": "ipython",
        "version": 3
      },
      "file_extension": ".py",
      "mimetype": "text/x-python",
      "name": "python",
      "nbconvert_exporter": "python",
      "pygments_lexer": "ipython3",
      "version": "3.6.8"
    }
  },
  "nbformat": 4,
  "nbformat_minor": 0
}