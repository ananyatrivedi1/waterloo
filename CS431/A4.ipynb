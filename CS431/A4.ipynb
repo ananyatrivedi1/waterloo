{
  "cells": [
    {
      "cell_type": "markdown",
      "metadata": {
        "deletable": false,
        "id": "I1gm9-t0i7Ok",
        "tags": [
          "instructions"
        ]
      },
      "source": [
        "## CS431/631 Data Intensive Distributed Computing\n",
        "### Winter 2023 - Assignment 4\n",
        "---"
      ]
    },
    {
      "cell_type": "markdown",
      "metadata": {
        "deletable": false,
        "id": "-CB3G_gbi7Ok",
        "tags": [
          "instructions"
        ]
      },
      "source": [
        "**Please edit this (text) cell to provide your name and UW student ID number!**\n",
        "* **Name:** Ananya Trivedi\n",
        "* **ID:** 20874394"
      ]
    },
    {
      "cell_type": "markdown",
      "metadata": {
        "id": "R5BLErorljlr"
      },
      "source": [
        "Spark is not installed in Colab so we have to install it ourself. This will take a minute to finish. If you're using this on your own machine the following might not work, and you will have to install Spark yourself."
      ]
    },
    {
      "cell_type": "code",
      "execution_count": 1,
      "metadata": {
        "id": "lh5NCoc8fsSO",
        "colab": {
          "base_uri": "https://localhost:8080/"
        },
        "outputId": "240be6d6-8a72-494f-f2b6-49d8cdb4c4ef"
      },
      "outputs": [
        {
          "output_type": "stream",
          "name": "stdout",
          "text": [
            "W: Skipping acquire of configured file 'main/source/Sources' as repository 'https://r2u.stat.illinois.edu/ubuntu jammy InRelease' does not seem to provide it (sources.list entry misspelt?)\n"
          ]
        }
      ],
      "source": [
        "!apt-get update -qq > /dev/null\n",
        "!apt-get install openjdk-8-jdk-headless -qq > /dev/null\n",
        "!curl -Os https://student.cs.uwaterloo.ca/~cs451/spark/spark-3.4.3-bin-hadoop3.tgz\n",
        "!tar xzf spark-3.4.3-bin-hadoop3.tgz\n",
        "!pip install -q findspark"
      ]
    },
    {
      "cell_type": "markdown",
      "metadata": {
        "id": "ILheUROOhprv"
      },
      "source": [
        "Now that you installed Spark and Java in Colab, it is time to set the environment path which enables you to run Pyspark in your Colab environment. On your own system you won't need to run the next box, but on Colab you must."
      ]
    },
    {
      "cell_type": "code",
      "execution_count": 2,
      "metadata": {
        "id": "Sj0X9QzDlzt-"
      },
      "outputs": [],
      "source": [
        "import os\n",
        "os.environ[\"JAVA_HOME\"] = \"/usr/lib/jvm/java-8-openjdk-amd64\"\n",
        "os.environ[\"SPARK_HOME\"] = \"/content/spark-3.4.3-bin-hadoop3\""
      ]
    },
    {
      "cell_type": "markdown",
      "metadata": {
        "id": "65wC_b2zlzt-"
      },
      "source": [
        "Now you will be able to create the SparkContext object needed to run Spark code:"
      ]
    },
    {
      "cell_type": "code",
      "execution_count": 3,
      "metadata": {
        "id": "Xnxe-BhPmbBW"
      },
      "outputs": [],
      "source": [
        "\n",
        "import findspark\n",
        "findspark.init()\n",
        "\n",
        "from pyspark import SparkContext\n",
        "sc = SparkContext(appName=\"YourTest\", master=\"local[*]\")"
      ]
    },
    {
      "cell_type": "markdown",
      "metadata": {
        "id": "bb7xX3Valzt-"
      },
      "source": [
        "If you are running on colab, you can run the next code block to create a clickable link to open the SparkUI. (If running on your own machine, then the previous cell should have given you a link that will work on your local machine, but if not, try localhost:4040)"
      ]
    },
    {
      "cell_type": "code",
      "execution_count": 4,
      "metadata": {
        "colab": {
          "base_uri": "https://localhost:8080/",
          "height": 69
        },
        "id": "d_vBcSSQlzt-",
        "outputId": "d4f0fec4-7e8c-48dc-8956-911deddd43f6"
      },
      "outputs": [
        {
          "output_type": "stream",
          "name": "stdout",
          "text": [
            "\u001b[31mWarning: This function may stop working due to changes in browser security.\n",
            "Try `serve_kernel_port_as_iframe` instead. \u001b[0m\n"
          ]
        },
        {
          "output_type": "display_data",
          "data": {
            "text/plain": [
              "<IPython.core.display.Javascript object>"
            ],
            "application/javascript": [
              "(async (port, path, text, element) => {\n",
              "    if (!google.colab.kernel.accessAllowed) {\n",
              "      return;\n",
              "    }\n",
              "    element.appendChild(document.createTextNode(''));\n",
              "    const url = await google.colab.kernel.proxyPort(port);\n",
              "    const anchor = document.createElement('a');\n",
              "    anchor.href = new URL(path, url).toString();\n",
              "    anchor.target = '_blank';\n",
              "    anchor.setAttribute('data-href', url + path);\n",
              "    anchor.textContent = text;\n",
              "    element.appendChild(anchor);\n",
              "  })(4040, \"/jobs/index.html\", \"https://localhost:4040/jobs/index.html\", window.element)"
            ]
          },
          "metadata": {}
        }
      ],
      "source": [
        "from google.colab import output\n",
        "output.serve_kernel_port_as_window(4040, path='/jobs/index.html')\n",
        "# This will create a link below. You must click the link, do not copy & paste the URL as that's the \"local\" URL and won't work on your machine"
      ]
    },
    {
      "cell_type": "markdown",
      "metadata": {
        "deletable": false,
        "id": "TWJ_8b6Li7Ol",
        "tags": [
          "instructions"
        ]
      },
      "source": [
        "---\n",
        "#### Overview\n",
        "For this assignment, you will be using Python and Spark to perform spam detection.   You will need to perform two tasks.   The first is to build spam prediction models, using training data sets and stochastic gradient descent (SGD).   The second is to use these models to predict whether the documents in a test data set are spam.\n",
        "The stochastic gradient descent technique that you will be using is based on [a paper](http://arxiv.org/abs/1004.5168) by Cormack, Smucker and Clarke.\n",
        "\n",
        "#### Training a Spam Classification Models\n",
        "To build a spam classification model, you will start with a training data set.   Each instance in the training set represents a single document, and is labeled to indicate whether that document should be considered to be spam or ham.\n",
        "An instance looks like this:\n",
        "```\n",
        "clueweb09-en0094-20-13546 spam 387908 697162 426572 161118 688171 ...\n",
        "```\n",
        "The first field, `clueweb09-en0094-20-13546`, is the (unique) document name.   The second field is the label, indicating whether the document should be considered spam (as in this example) or ham.   The remaining fields are integers representing *features* present in the document.   In this case, the features are hashed byte 4-grams, represented as integers.   Each training data set is stored as a text file, with one instance per line.   The training files  are:\n",
        "* `spam.train.group_x.txt`   (25 MB)\n",
        "* `spam.train.group_y.txt`   (20 MB)\n",
        "* `spam.train.britney.txt`   (766 MB)\n",
        "\n",
        "Now let's download the spamminess module and the training traces we will use in this assignment. This will take a few minutes. The ls command at the end shows the files we have in this directory. Make sure all files are here now."
      ]
    },
    {
      "cell_type": "code",
      "execution_count": 5,
      "metadata": {
        "colab": {
          "base_uri": "https://localhost:8080/"
        },
        "id": "-GrsO9SjnwEP",
        "outputId": "58bfdaad-983f-4796-fef1-0bba9308a140"
      },
      "outputs": [
        {
          "output_type": "stream",
          "name": "stdout",
          "text": [
            "sample_data    spam.train.britney.txt  spam.train.group_y.txt\tspark-3.4.3-bin-hadoop3.tgz\n",
            "spamminess.py  spam.train.group_x.txt  spark-3.4.3-bin-hadoop3\n"
          ]
        }
      ],
      "source": [
        "!wget -q https://student.cs.uwaterloo.ca/~cs451/W20/content/cs431/spamminess.py\n",
        "!wget -q https://www.student.cs.uwaterloo.ca/~cs451/spam/spam.train.group_x.txt.bz2\n",
        "!wget -q https://www.student.cs.uwaterloo.ca/~cs451/spam/spam.train.group_y.txt.bz2\n",
        "!wget -q https://www.student.cs.uwaterloo.ca/~cs451/spam/spam.train.britney.txt.bz2\n",
        "\n",
        "!bunzip2 spam.train.group_x.txt.bz2\n",
        "!bunzip2 spam.train.group_y.txt.bz2\n",
        "!bunzip2 spam.train.britney.txt.bz2\n",
        "!ls"
      ]
    },
    {
      "cell_type": "markdown",
      "metadata": {
        "id": "JyIvJDwBnkSa"
      },
      "source": [
        "\n",
        "---\n",
        "### Important\n",
        "\n",
        "The questions that follow ask you to implement functions whose prototypes are given to you. Do _**not**_ change the prototypes of the functions. Do _**not**_ write code outside of the functions.\n",
        "\n",
        "You may use specific cells, identified by `# Your tests here`, for test purposes. Code in these cells will *not* be executed when marking your assignment.\n",
        "\n",
        "---\n",
        "\n",
        "#### Question 1 ( 5/20 marks)\n",
        "\n",
        "Your first task is to write a sequential SGD model trainer in Python (no Spark).   For our purposes, a model associates a *weight* with each feature.   The model trainer decides what these weights should be, based on the training instances.  Since you are going to be writing a model trainer based on SGD, the trainer should behave like this:\n",
        "```\n",
        "for each training instance T\n",
        "   predict whether T is spam or ham using the weights of the current model\n",
        "   update the model weights by comparing T's predicted label with its actual label\n",
        "```\n",
        "Of course, the important part is how to update the model.\n",
        "\n",
        "In [the paper](http://arxiv.org/abs/1004.5168), the model is used to assign a \"spamminess\" score to a document.   Documents with positive spamminess are predicted to be spam.   Those with negative spamminess are predicted to be ham.  The spamminess of a document $D$ is simply the sum of the weights (from the model) of each of the document's features:\n",
        "\\begin{equation}\n",
        "spamminess(D) = \\sum_{f \\in D}{w(f)}\n",
        "\\end{equation}\n",
        "where $w(f)$ is the weight assocated with feature $f$.\n",
        "\n",
        "The Python module `spamminess.py` defines a function `spamminess(F,W)` which computes this quantity.   This function takes two arguments, `F` and `W`.  `F` is a list of features (integers) associated to the document whose spamminess you want to compute, and `W` is a dictionary representing the current model.  `W` maps features ($f$) to their weights ($w(f)$) under the model.\n",
        "\n",
        "In the cell below, you will find partial pseudo-code that shows how to implement the SGD model trainer defined by Cormack, Smucker, and Clarke.   It reads the training instances one at a time from one of the training files, and uses them to adjust the model weights.   Your job is to turn this pseudo-code into actual runnable Python code that can\n",
        "be used to learn a model from any one of the training files. Implement the function `sequential_SGD()` that takes as input a model (`w`), the training dataset and a value for the update parameter `delta`, and returns the trained model."
      ]
    },
    {
      "cell_type": "code",
      "execution_count": 6,
      "metadata": {
        "deletable": false,
        "id": "iVoQ1DSci7On",
        "tags": [
          "code"
        ]
      },
      "outputs": [],
      "source": [
        "# A4Q1\n",
        "\n",
        "from spamminess import spamminess\n",
        "from math import exp\n",
        "\n",
        "def sequential_SGD(model, training_dataset='spam.train.group_x.txt', delta = 0.002):\n",
        "    #### Your solution to Question 1 here\n",
        "    # open one of the training files - defaults to group_x\n",
        "    with open(training_dataset) as f:\n",
        "        for line in f:\n",
        "          tokenizedDocs = line.strip().split()\n",
        "          t = tokenizedDocs[1]\n",
        "          F = list(map(int, tokenizedDocs[2:]))\n",
        "\n",
        "          score = spamminess(F, model)\n",
        "          prob = 1.0 / (1 + exp(-score))\n",
        "\n",
        "          for f in F:\n",
        "            if t == 'spam':\n",
        "                # Increase the weight if the document is spam\n",
        "                model[f] = model.get(f,0) + ((1.0 - prob) * delta)\n",
        "            elif t == 'ham':\n",
        "                # Decrease the weight if the document is ham\n",
        "                model[f] = model.get(f,0)  - (prob * delta)\n",
        "    #   for line in f:\n",
        "    #      each line represents a document\n",
        "    #      read and parse the line\n",
        "    #      Let:\n",
        "    #        t represent the spam/ham tag for this document\n",
        "    #        F represent the list of features for this document\n",
        "\n",
        "    #      find the spamminess of the current document using the current model:\n",
        "    #      score = spamminess(F,w)\n",
        "\n",
        "    #      then, update the model:\n",
        "    #      prob = 1.0/(1+exp(-score))\n",
        "    #      for each feature f in F:\n",
        "    #          if t == 'spam':\n",
        "    #              increase model(f) by (1.0-prob)*delta (or set model(f) to (1.0-prob)*delta if f is not in the dict yet)\n",
        "    #          elif t == 'ham':\n",
        "    #              decrease model(f) by prob*delta (or set model(f) to -prob*delta if f is not in the dict yet)\n",
        "    return model\n"
      ]
    },
    {
      "cell_type": "code",
      "execution_count": 8,
      "metadata": {
        "deletable": false,
        "id": "EAzF-80Yi7On",
        "tags": [
          "test"
        ],
        "colab": {
          "base_uri": "https://localhost:8080/"
        },
        "outputId": "215b5e33-81b5-49c3-edca-d2ca512645dc"
      },
      "outputs": [
        {
          "output_type": "stream",
          "name": "stdout",
          "text": [
            "Sample of learned weights:\n",
            "f 387908: w(f) 0.011130009656615219\n",
            "f 697162: w(f) 0.011130009656615219\n",
            "f 426572: w(f) 0.011130009656615219\n",
            "f 161118: w(f) 0.011130009656615219\n",
            "f 688171: w(f) 0.011130009656615219\n",
            "f 43992: w(f) 0.011130009656615219\n",
            "f 908749: w(f) 0.011130009656615219\n",
            "f 126841: w(f) 0.011130009656615219\n",
            "f 116309: w(f) 0.011130009656615219\n",
            "f 950728: w(f) 0.011130009656615219\n"
          ]
        }
      ],
      "source": [
        "# Your tests here\n",
        "w = sequential_SGD({}) # Providing an empty model\n",
        "trained_model = sequential_SGD(w, training_dataset='spam.train.group_x.txt', delta=0.002)\n",
        "for feature, weight in list(trained_model.items())[:10]:\n",
        "    print(f\"f {feature}: w(f) {weight}\")\n",
        "\n"
      ]
    },
    {
      "cell_type": "markdown",
      "metadata": {
        "deletable": false,
        "id": "FiyidVMdi7On",
        "tags": [
          "instructions"
        ]
      },
      "source": [
        "#### Question 2 (5/20 marks)\n",
        "\n",
        "Next, you should try implementing a Spark version of the SGD model trainer.   Your Spark implementation should read a training file, train the model, and then output the model to the `models` folder.  The model output file that you generate should list the weight associated with each feature, with one feature per line, like this:\n",
        "```\n",
        "(802123, 0.0009858585991850937)\n",
        "(438450, 4.267897922108138e-05)\n",
        "(271525, 0.0013133437007968654)\n",
        "(92853, 0.0004300009932503611)\n",
        "```\n",
        "\n",
        "Use Spark's `saveAsTextFile` action to output your model.   For example, if you are training a model for the group_x training set, use `saveAsTextFile(\"models/group_x_model\")`.   This will actually cause Spark to create a folder called `group_x_model`.   In the folder, there will be files with names like `part-00000` that contain the actual output data.  When you use `saveAsTextFile`, Spark will generate one `part-xxxxx` file for each partition of the RDD that you are writing out.   In this case, you should have only a single partition (for the reason described below), so there should be only one `part-xxxxx` file.\n",
        "\n",
        "Training the SGD model is an inherently sequential task, since the training instances update the model one at a time, and each instance's spamminess is computed using the model produced by that instance's predecessors.   This means that the only part of the training that you can parallelize using Spark is the parsing of the input file.   Once the input is parsed, your Spark implementation will have to force all of the instances into a single partition, and then apply the training function to the entire partition.   To see whether you are getting sensible results, you can compare the model you learn with Spark to the one that you learned with your sequential Python program from Question 1.\n",
        "\n",
        "Remember that training should occur entirely in Spark.  The training instances should never come into your driver program.\n",
        "\n",
        "Implement the function `spark_SGD()` below that takes as input the path to the training dataset, an output path `output_model` and a value for the update parameter `delta`, and writes the trained model to `output_model` using Spark's `saveAsTextFile`. You can use it to generate models from all three of the training files, leaving the results in your models folder. For this assignment, you will be using Spark's original RDD interface, rather than the DataFrame interface.\n",
        "\n",
        "Hint: You need to move all of the data into one partition and then use mapPartition to train the model.\n"
      ]
    },
    {
      "cell_type": "code",
      "execution_count": 14,
      "metadata": {
        "deletable": false,
        "id": "Dd2wZ_Rji7On",
        "tags": [
          "code"
        ]
      },
      "outputs": [],
      "source": [
        "# A4Q2\n",
        "\n",
        "from spamminess import spamminess\n",
        "from math import exp\n",
        "import shutil, os\n",
        "\n",
        "def spark_SGD(training_dataset='spam.train.group_x.txt', output_model='models/group_x_model', delta = 0.002):\n",
        "    if os.path.isdir(output_model):\n",
        "        shutil.rmtree(output_model) # Remove the previous model to create a new one\n",
        "    training_data = sc.textFile(training_dataset)\n",
        "\n",
        "    model = {}\n",
        "\n",
        "    def partitioning(partition):\n",
        "        \"\"\"Process each partition, updating the model iteratively\"\"\"\n",
        "        model = {}\n",
        "\n",
        "        for line in partition:\n",
        "            tokenized_docs = line.strip().split()\n",
        "            label = tokenized_docs[1]\n",
        "            features = list(map(int, tokenized_docs[2:]))\n",
        "\n",
        "            score = spamminess(features, model)\n",
        "            prob = 1.0 / (1 + exp(-score))\n",
        "\n",
        "            # Update the model weights\n",
        "            for feature in features:\n",
        "                if label == 'spam':\n",
        "                    model[feature] = model.get(feature, 0) + (1.0 - prob) * delta\n",
        "                elif label == 'ham':\n",
        "                    model[feature] = model.get(feature, 0) - prob * delta\n",
        "\n",
        "        return model.items()\n",
        "\n",
        "    # Apply partitioning to each partition -> gives (feature, weight) pairs\n",
        "    model_rdd = training_data.mapPartitions(partitioning)\n",
        "\n",
        "    # Reduce by key to sum up weights for each feature across partitions\n",
        "    final_model = model_rdd.reduceByKey(lambda x, y: x + y)\n",
        "    final_model.saveAsTextFile(output_model)\n",
        "\n"
      ]
    },
    {
      "cell_type": "code",
      "execution_count": 26,
      "metadata": {
        "deletable": false,
        "id": "IhKu2ewai7Oo",
        "tags": [
          "test"
        ]
      },
      "outputs": [],
      "source": [
        "# Your tests here\n",
        "spark_SGD()\n",
        "spark_SGD(training_dataset='spam.train.group_y.txt', output_model='models/group_y_model')\n",
        "spark_SGD(training_dataset='spam.train.britney.txt', output_model='models/britney_model')"
      ]
    },
    {
      "cell_type": "markdown",
      "metadata": {
        "deletable": false,
        "id": "EmwTvAsvi7Oo",
        "tags": [
          "instructions"
        ]
      },
      "source": [
        "#### Question 3 (5/20 marks)\n",
        "\n",
        "When you train a model using SGD, the model you get depends on the order in which you handle the training instances.  To see this in action, try using the Spark SGD trainer you implemented for Question 2 to train a model from the group_x training set, but with the instances processed in a different order.  \n",
        "\n",
        "To do this, re-implement your trainer from Question 2 so that it will randomly reorder the training instances before using them to update the model. One way to shuffle the training instances is to assign a random sort key to each training instance as you read it from the input file, and then sort the instances using the random sort key.\n",
        "\n",
        "Be sure that Spark is doing the work of shuffling the training instances.   Do not load the training instances into your driver program and sort them there.\n",
        "\n",
        "Implement the function `spark_shuffled_SGD` below that takes as input the path to the training dataset, an output path `output_model` and a value for the update parameter `delta`, shuffles the training instances using the method described above and writes the trained model to `output_model` using Spark's `saveAsTextFile`.\n",
        "\n",
        "Once you have implemented the shuffled trainer, train a model using shuffled group_x training instances, and compare the resulting model with group_x model you learned without shuffling.  It is up to you how to do this comparision.  At a minimum, compare features with the highest weights in each model to see if they are similar. You can also use the classifier in next question to classify documents using the two models, and compare results.\n"
      ]
    },
    {
      "cell_type": "code",
      "execution_count": 27,
      "metadata": {
        "deletable": false,
        "id": "KXU4FPMvi7Oo",
        "tags": [
          "code"
        ]
      },
      "outputs": [],
      "source": [
        "# A4Q3\n",
        "\n",
        "from spamminess import spamminess\n",
        "from math import exp\n",
        "import shutil, os, random\n",
        "\n",
        "def spark_shuffled_SGD(training_dataset='spam.train.group_x.txt', output_model='models/group_x_model', delta = 0.002):\n",
        "    if os.path.isdir(output_model):\n",
        "        shutil.rmtree(output_model) # Remove the previous model to create a new one\n",
        "    training_data = sc.textFile(training_dataset)\n",
        "    #### Your Solution to Question 3 here\n",
        "     # Assigning a random key to each instance for shuffling and sorting by the key\n",
        "    shuffled_data = training_data.map(lambda line: (random.random(), line)).sortByKey().values()\n",
        "\n",
        "    def partitioning(partition):\n",
        "        model = {}\n",
        "\n",
        "        for line in partition:\n",
        "            tokenized_docs = line.strip().split()\n",
        "            label = tokenized_docs[1]\n",
        "            features = list(map(int, tokenized_docs[2:]))\n",
        "\n",
        "            score = spamminess(features, model)\n",
        "            prob = 1.0 / (1 + exp(-score))\n",
        "\n",
        "            # Update the model weights\n",
        "            for feature in features:\n",
        "                if label == 'spam':\n",
        "                    model[feature] = model.get(feature, 0) + (1.0 - prob) * delta\n",
        "                elif label == 'ham':\n",
        "                    model[feature] = model.get(feature, 0) - prob * delta\n",
        "\n",
        "        return model.items()\n",
        "\n",
        "    # Apply partitioning() to each partition -> gives (feature, weight) pairs\n",
        "    model_rdd = shuffled_data.mapPartitions(partitioning)\n",
        "    final_model = model_rdd.reduceByKey(lambda x, y: x + y)\n",
        "    final_model.saveAsTextFile(output_model)\n"
      ]
    },
    {
      "cell_type": "code",
      "execution_count": 28,
      "metadata": {
        "deletable": false,
        "id": "i8UeA0Wdi7Oo",
        "tags": [
          "test"
        ]
      },
      "outputs": [],
      "source": [
        "# Your tests here\n",
        "spark_shuffled_SGD(output_model='models/group_x_model_shuffled')\n"
      ]
    },
    {
      "cell_type": "markdown",
      "metadata": {
        "id": "KpvLuHe4puP7"
      },
      "source": [
        "#### Question 4 (5/20  marks)\n",
        "\n",
        "Last but not least, you should write a Spark program that can be used to classify documents as spam or ham, using the classification models you produced.\n",
        "\n",
        "The test data, i.e., the document instances that you should classifiy, are located in `spam.test.qrels.txt`. Run the following block to download this trace. This will take a few minutes."
      ]
    },
    {
      "cell_type": "code",
      "execution_count": 29,
      "metadata": {
        "id": "L41oN0Wipvl_",
        "colab": {
          "base_uri": "https://localhost:8080/"
        },
        "outputId": "d86b4782-5ff7-4143-d5c8-63a96209d3f3"
      },
      "outputs": [
        {
          "output_type": "stream",
          "name": "stdout",
          "text": [
            "compute_spam_metrics\tsample_data\t     spam.train.britney.txt   spark-3.4.3-bin-hadoop3.tgz\n",
            "compute_spam_metrics.c\tspam_eval.sh\t     spam.train.group_x.txt\n",
            "models\t\t\tspamminess.py\t     spam.train.group_y.txt\n",
            "__pycache__\t\tspam.test.qrels.txt  spark-3.4.3-bin-hadoop3\n"
          ]
        }
      ],
      "source": [
        "!wget -q https://www.student.cs.uwaterloo.ca/~cs451/spam/spam.test.qrels.txt.bz2\n",
        "!bunzip2 spam.test.qrels.txt.bz2\n",
        "!ls"
      ]
    },
    {
      "cell_type": "markdown",
      "metadata": {
        "deletable": false,
        "id": "cTYn-6ssi7Oo",
        "tags": [
          "instructions"
        ]
      },
      "source": [
        "\n",
        "Each line in this file represents a document that needs to be classified as spam or ham.  The format of this file is identical to the format of the files that hold the training instances.\n",
        "\n",
        "Implement the function `spark_classify` below that will load a model (from a specified folder under `models`), classify all of the instances in a given test data file (`spam.test.qrels.txt` by default) using that model, and then output the results in the folder `results_path` using Spark's `saveAsTextFile`.   The contents of the output file should look like this:\n",
        "```\n",
        "(clueweb09-en0000-00-00142,spam,2.601624279252943,spam)\n",
        "(clueweb09-en0000-00-01005,ham,2.5654162439491004,spam)\n",
        "(clueweb09-en0000-00-01382,ham,2.5893946346394188,spam)\n",
        "```\n",
        "Each line of the output represents one test instance.   The first two fields are the document ID and the test label.  These are just copied from the test data.   The third field is the spamminess score of the document, produced by the spamminess function using the model you are classifying with.   The fourth field is the spam/ham prediction made by the model.\n",
        "\n",
        "Of course, your spam/ham classifier must **not** use the test label from the input when making its prediction.  The test labels are the \"ground truth\" against which your predictions are being compared.   Using them to make predictions would defeat the whole purpose of model-based classification.\n",
        "\n",
        "Make sure that classification of the test instances is done by Spark, not by your driver program.  Do ***not*** load the test instances or classification results into your driver program. You are however allowed to load the model weights into your driver program to distribute them as side data.\n",
        "Unlike model training, classification is easily parallelizable, since each document is classified independently."
      ]
    },
    {
      "cell_type": "code",
      "execution_count": 31,
      "metadata": {
        "deletable": false,
        "id": "k-DK5bPgi7Oo",
        "tags": [
          "code"
        ]
      },
      "outputs": [],
      "source": [
        "# A4Q4\n",
        "from spamminess import spamminess\n",
        "import shutil, os\n",
        "\n",
        "def spark_classify(input_model='models/group_x_model', test_dataset='spam.test.qrels.txt', results_path='results/test_qrels'):\n",
        "    if os.path.isdir(results_path):\n",
        "        shutil.rmtree(results_path) # Remove the previous results\n",
        "    test_data = sc.textFile(test_dataset)\n",
        "    #### Your Solution to Question 4 here\n",
        "     # Load the model from the specified directory\n",
        "    model = dict(sc.textFile(input_model).map(lambda line: tuple(eval(line.strip()))).collect())\n",
        "\n",
        "    def classify(line):\n",
        "        tokenized_docs = line.strip().split()\n",
        "        doc_id = tokenized_docs[0]\n",
        "        test_label = tokenized_docs[1]\n",
        "        features = list(map(int, tokenized_docs[2:]))\n",
        "\n",
        "        score = spamminess(features, model)\n",
        "        predicted_label = 'spam' if score > 0 else 'ham'\n",
        "\n",
        "        return f\"({doc_id},{test_label},{score},{predicted_label})\"\n",
        "\n",
        "    results = test_data.map(classify)\n",
        "    results.saveAsTextFile(results_path)"
      ]
    },
    {
      "cell_type": "markdown",
      "metadata": {
        "id": "S-FkKAhcqgHl"
      },
      "source": [
        "We have developed a program that can be used to evaluate your classification results.  Run the next block to download this program."
      ]
    },
    {
      "cell_type": "code",
      "execution_count": 19,
      "metadata": {
        "id": "5uRP5o9ZqhAd"
      },
      "outputs": [],
      "source": [
        "!wget -q https://student.cs.uwaterloo.ca/~cs451/content/cs431/compute_spam_metrics.c\n",
        "!wget -q https://student.cs.uwaterloo.ca/~cs451/content/cs431/spam_eval.sh"
      ]
    },
    {
      "cell_type": "markdown",
      "metadata": {
        "id": "IPJwvzrGqhii"
      },
      "source": [
        "Now compile this program."
      ]
    },
    {
      "cell_type": "code",
      "execution_count": 30,
      "metadata": {
        "id": "dyXv9ef-qkoE"
      },
      "outputs": [],
      "source": [
        "!gcc -w -O2 -o compute_spam_metrics compute_spam_metrics.c -lm"
      ]
    },
    {
      "cell_type": "markdown",
      "metadata": {
        "deletable": false,
        "id": "59162Mlri7Oo",
        "tags": [
          "instructions"
        ]
      },
      "source": [
        " Given your ouput file, in the proper format, it will compute the area under the receiver operating curve (ROC).   This is a common way to characterize classifier error.    The lower this score, the better.   The evaluation program should produce one line of output, like this\n",
        "```\n",
        "1-ROCA%: 17.25\n",
        "```\n",
        "\n",
        "Use your classifier to classify the test instances using each of the three classification models that you produced, which should result in three different output files.   Then, in the cell below,\n",
        "use the evaluation program to evaluate your results.\n"
      ]
    },
    {
      "cell_type": "code",
      "execution_count": 34,
      "metadata": {
        "deletable": false,
        "id": "fKHo4O_yi7Oo",
        "tags": [
          "test"
        ],
        "colab": {
          "base_uri": "https://localhost:8080/"
        },
        "outputId": "801e8f9a-4adc-4b23-9c82-a13015ca31a3"
      },
      "outputs": [
        {
          "output_type": "stream",
          "name": "stdout",
          "text": [
            "1-ROCA%: 19.68\n"
          ]
        }
      ],
      "source": [
        "# Your tests here\n",
        "spark_classify()\n",
        "#  Run the evaluation program like this, after first replacing \"output-file\"\n",
        "#  with the name of the folder that holds your classifier's output\n",
        "!bash spam_eval.sh results/test_qrels"
      ]
    },
    {
      "cell_type": "markdown",
      "metadata": {
        "deletable": false,
        "id": "3hVKBrDDi7Oo",
        "tags": [
          "instructions"
        ]
      },
      "source": [
        "---\n",
        "Don't forget to save your workbook!   When you are finished and you are ready to submit your assignment, download your notebook file (.ipynb) from the hub to your machine, and then follow the submission instructions in the assignment."
      ]
    }
  ],
  "metadata": {
    "colab": {
      "provenance": []
    },
    "kernelspec": {
      "display_name": "Python 3",
      "language": "python",
      "name": "python3"
    },
    "language_info": {
      "codemirror_mode": {
        "name": "ipython",
        "version": 3
      },
      "file_extension": ".py",
      "mimetype": "text/x-python",
      "name": "python",
      "nbconvert_exporter": "python",
      "pygments_lexer": "ipython3",
      "version": "3.6.8"
    }
  },
  "nbformat": 4,
  "nbformat_minor": 0
}