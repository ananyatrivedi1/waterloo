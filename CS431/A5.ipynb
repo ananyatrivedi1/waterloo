{
  "cells": [
    {
      "cell_type": "markdown",
      "metadata": {
        "deletable": false,
        "id": "L40eXcn6C1GU",
        "tags": [
          "instructions"
        ]
      },
      "source": [
        "## CS431 Data Intensive Distributed Computing\n",
        "### Fall 2024 - Assignment 5\n",
        "---"
      ]
    },
    {
      "cell_type": "markdown",
      "metadata": {
        "deletable": false,
        "id": "zbZw9WlgC1GZ",
        "tags": [
          "instructions"
        ]
      },
      "source": [
        "**Please edit this (text) cell to provide your name and UW student ID number!**\n",
        "* **Name:** Ananya Trivedi\n",
        "* **ID:** 20874394"
      ]
    },
    {
      "cell_type": "markdown",
      "metadata": {
        "deletable": false,
        "id": "GLVpHfc7C1Ga",
        "tags": [
          "instructions"
        ]
      },
      "source": [
        "---\n",
        "#### Overview\n",
        "For this assignment, you will be using Python and Spark to perform some simple analyses on relational (tabular) data.  You will use Spark to read tabular data from files and then answer simple queries about the data in those tables.\n",
        "\n",
        "In addition to Python and Spark, you will need to use a little bit of SQL.  If you are already familiar with SQL, great.  If not, you will want to spend a short amount of time getting familiar with the basics.   Type \"SQL tutorial\" into your favorite search engine, and you will find many examples of text, interactive and video tutorials.   As a simple starting point, you might also want to look at [these slides](https://student.cs.uwaterloo.ca/~cs451/content/cs431/sql.pdf), which give a short introduction to SQL.   Even this is much more than you will need for this assignment.\n",
        "\n",
        "You will be working with tabular data based on the schema for the TPC-H benchmark, which is a standard test used to measure the performance of relational database systems.   The schema defines the tables that exist in the database, the information in each table, and relationships between information in one table and information in another.   The TPC-H schema models business information:  customers, orders, parts, suppliers, and so on. You can find it on page 13 of the [TPC-H benchmark specification](http://www.tpc.org/TPC_Documents_Current_Versions/pdf/tpc-h_v2.17.3.pdf).   The TPC-H schema is important for this assignment, so make sure that you keep this schema handy.\n",
        "\n",
        "Finally, for this assignment you will be using Spark in a slightly different way than you have used it so far.  For previous assignments, you have used the original Spark RDD interface.   For this assignment, you will be using the newer Spark interface, which is based on DataFrames.   DataFrames are RDDs in which each element is constrained to have the same structure.   You can think of a DataFrame like a table in a relational database.   Each element of the DataFrame is a row or record in the table.   All records have the same structure.   There is a programming guide for Spark DataFrames [here](https://spark.apache.org/docs/latest/sql-programming-guide.html).  \n",
        "\n",
        "---\n",
        "#### Getting Started\n",
        "To get started, let's initialize Spark, load a couple of the TPC-H tables, and run some simple queries.\n",
        "First, as always, we need to install spark and set it up."
      ]
    },
    {
      "cell_type": "code",
      "execution_count": 2,
      "metadata": {
        "deletable": false,
        "id": "NWzWM_87C1Gb",
        "tags": [
          "setup"
        ],
        "colab": {
          "base_uri": "https://localhost:8080/"
        },
        "outputId": "5b78f15f-fa06-4440-e020-da56eb5945e8"
      },
      "outputs": [
        {
          "output_type": "stream",
          "name": "stdout",
          "text": [
            "W: Skipping acquire of configured file 'main/source/Sources' as repository 'https://r2u.stat.illinois.edu/ubuntu jammy InRelease' does not seem to provide it (sources.list entry misspelt?)\n"
          ]
        }
      ],
      "source": [
        "!apt-get update -qq > /dev/null\n",
        "!apt-get install openjdk-8-jdk-headless -qq > /dev/null\n",
        "!curl -Os https://student.cs.uwaterloo.ca/~cs451/spark/spark-3.4.3-bin-hadoop3.tgz\n",
        "!tar xzf spark-3.4.3-bin-hadoop3.tgz\n",
        "!pip install -q findspark\n",
        "!curl -Os https://student.cs.uwaterloo.ca/~cs451/content/cs431/sql-data.tgz\n",
        "!tar -xzf sql-data.tgz"
      ]
    },
    {
      "cell_type": "markdown",
      "metadata": {
        "id": "-PWFB4rBxcgI"
      },
      "source": [
        "If necessary (e.g. on Colab) we must set the correct environment variables."
      ]
    },
    {
      "cell_type": "code",
      "execution_count": 3,
      "metadata": {
        "id": "eFdDzKOyxcgI"
      },
      "outputs": [],
      "source": [
        "import os\n",
        "os.environ[\"JAVA_HOME\"] = \"/usr/lib/jvm/java-8-openjdk-amd64\"\n",
        "os.environ[\"SPARK_HOME\"] = \"/content/spark-3.4.3-bin-hadoop3\""
      ]
    },
    {
      "cell_type": "markdown",
      "metadata": {
        "deletable": false,
        "id": "FT4V7xlCC1Gc",
        "tags": [
          "instructions"
        ]
      },
      "source": [
        "Next, we launch Spark.  When you used the RDD interface for previous assignments, you created a `SparkContext` when you launched Spark.   To use Spark SQL and the DataFrame interface, you instead create a `SparkSession`.   You do that as shown in the next cell (run it!).    "
      ]
    },
    {
      "cell_type": "code",
      "execution_count": 4,
      "metadata": {
        "deletable": false,
        "id": "NyH7WzP0C1Gc",
        "tags": [
          "setup"
        ]
      },
      "outputs": [],
      "source": [
        "import findspark\n",
        "findspark.init()\n",
        "\n",
        "from pyspark.sql import SparkSession\n",
        "import random\n",
        "\n",
        "spark = SparkSession.builder.appName(\"YourTest\").master(\"local[*]\").getOrCreate()"
      ]
    },
    {
      "cell_type": "markdown",
      "metadata": {
        "id": "OrDa81wDxcgJ"
      },
      "source": [
        "You may want to view the Spark UI if some of your code is taking longer than expected. On your own machine it should be running at http://localhost:4040 but on Colab this port is not available to you! Instead, the following code box will provide a working link."
      ]
    },
    {
      "cell_type": "code",
      "execution_count": 5,
      "metadata": {
        "id": "bZJpRbdfxcgJ",
        "colab": {
          "base_uri": "https://localhost:8080/",
          "height": 69
        },
        "outputId": "b924d213-21f6-42f2-f126-3b697d6a4b68"
      },
      "outputs": [
        {
          "output_type": "stream",
          "name": "stdout",
          "text": [
            "\u001b[31mWarning: This function may stop working due to changes in browser security.\n",
            "Try `serve_kernel_port_as_iframe` instead. \u001b[0m\n"
          ]
        },
        {
          "output_type": "display_data",
          "data": {
            "text/plain": [
              "<IPython.core.display.Javascript object>"
            ],
            "application/javascript": [
              "(async (port, path, text, element) => {\n",
              "    if (!google.colab.kernel.accessAllowed) {\n",
              "      return;\n",
              "    }\n",
              "    element.appendChild(document.createTextNode(''));\n",
              "    const url = await google.colab.kernel.proxyPort(port);\n",
              "    const anchor = document.createElement('a');\n",
              "    anchor.href = new URL(path, url).toString();\n",
              "    anchor.target = '_blank';\n",
              "    anchor.setAttribute('data-href', url + path);\n",
              "    anchor.textContent = text;\n",
              "    element.appendChild(anchor);\n",
              "  })(4040, \"/jobs/index.html\", \"https://localhost:4040/jobs/index.html\", window.element)"
            ]
          },
          "metadata": {}
        }
      ],
      "source": [
        "from google.colab import output\n",
        "output.serve_kernel_port_as_window(4040, path='/jobs/index.html')\n",
        "# This will create a link below. You must click the link, do not copy & paste the URL as that's the \"local\" URL and won't work on your machine"
      ]
    },
    {
      "cell_type": "markdown",
      "metadata": {
        "deletable": false,
        "id": "TM53t79tC1Gd",
        "tags": [
          "instructions"
        ]
      },
      "source": [
        "Next, let's create DataFrames from the TPC-H data files.  We have already downloaded the TPC-H data files.\n",
        "\n",
        "There is one file for each table in the TPC-H database, e.g., `nation.tbl` for the TPC-H Nation table, `customer.tbl` for the TPC-H Customer table, and so on.    These are plain text csv files, with the character `|` used as a field separator.\n",
        "\n",
        "Create a Spark DataFrame corresponding to the TPC-H Nation table by loading the data from the `nation.tbl` file.   Run the code in the next cell to do this.   After you run this code, `nation_raw` will refer to your new Spark DataFrame.   The Spark `show()` method will display a small (default 20) number of elements from the DataFrame, so that you can inspect them."
      ]
    },
    {
      "cell_type": "code",
      "execution_count": 6,
      "metadata": {
        "deletable": false,
        "id": "RWktEcnhC1Gd",
        "tags": [
          "test"
        ],
        "colab": {
          "base_uri": "https://localhost:8080/"
        },
        "outputId": "21197587-3bd4-4c3d-e524-32e21c08d817"
      },
      "outputs": [
        {
          "output_type": "stream",
          "name": "stdout",
          "text": [
            "+---+----------+---+--------------------+----+\n",
            "|_c0|       _c1|_c2|                 _c3| _c4|\n",
            "+---+----------+---+--------------------+----+\n",
            "|  0|   ALGERIA|  0| haggle. carefull...|null|\n",
            "|  1| ARGENTINA|  1|al foxes promise ...|null|\n",
            "|  2|    BRAZIL|  1|y alongside of th...|null|\n",
            "|  3|    CANADA|  1|eas hang ironic, ...|null|\n",
            "|  4|     EGYPT|  4|y above the caref...|null|\n",
            "|  5|  ETHIOPIA|  0|ven packages wake...|null|\n",
            "|  6|    FRANCE|  3|refully final req...|null|\n",
            "|  7|   GERMANY|  3|l platelets. regu...|null|\n",
            "|  8|     INDIA|  2|ss excuses cajole...|null|\n",
            "|  9| INDONESIA|  2| slyly express as...|null|\n",
            "| 10|      IRAN|  4|efully alongside ...|null|\n",
            "| 11|      IRAQ|  4|nic deposits boos...|null|\n",
            "| 12|     JAPAN|  2|ously. final, exp...|null|\n",
            "| 13|    JORDAN|  4|ic deposits are b...|null|\n",
            "| 14|     KENYA|  0| pending excuses ...|null|\n",
            "| 15|   MOROCCO|  0|rns. blithely bol...|null|\n",
            "| 16|MOZAMBIQUE|  0|s. ironic, unusua...|null|\n",
            "| 17|      PERU|  1|platelets. blithe...|null|\n",
            "| 18|     CHINA|  2|c dependencies. f...|null|\n",
            "| 19|   ROMANIA|  3|ular asymptotes a...|null|\n",
            "+---+----------+---+--------------------+----+\n",
            "only showing top 20 rows\n",
            "\n"
          ]
        }
      ],
      "source": [
        "nation_raw = spark.read.csv(\"nation.tbl\",sep='|',inferSchema=True)\n",
        "nation_raw.show()"
      ]
    },
    {
      "cell_type": "markdown",
      "metadata": {
        "deletable": false,
        "id": "up0Hcd4DC1Ge",
        "tags": [
          "instructions"
        ]
      },
      "source": [
        "Now you have a DataFrame to work with.   The columns of the DataFrame correspond to the fields of the TPC-H Nation table, so have a look at the TPC-H schema diagram to see what you are dealing with.   Column c0 is the NATIONKEY, column c1 is the NAME, c2 is the REGIONKEY, and so on.   Since this is a synthetic database, you'll notice that the data in some of the fields (like the COMMENT field) consists of random words.   That's fine.   You can also ask Spark to tell you about the type of data in each column:"
      ]
    },
    {
      "cell_type": "code",
      "execution_count": 9,
      "metadata": {
        "deletable": false,
        "id": "Y6VMnplEC1Ge",
        "tags": [
          "test"
        ],
        "colab": {
          "base_uri": "https://localhost:8080/"
        },
        "outputId": "cc33cbb9-a6a8-42f1-fdd3-b6137400c10d"
      },
      "outputs": [
        {
          "output_type": "execute_result",
          "data": {
            "text/plain": [
              "[('_c0', 'int'),\n",
              " ('_c1', 'string'),\n",
              " ('_c2', 'int'),\n",
              " ('_c3', 'string'),\n",
              " ('_c4', 'string')]"
            ]
          },
          "metadata": {},
          "execution_count": 9
        }
      ],
      "source": [
        "nation_raw.dtypes"
      ]
    },
    {
      "cell_type": "markdown",
      "metadata": {
        "id": "cMImZgYDC1Gf",
        "tags": [
          "instructions"
        ]
      },
      "source": [
        "Before going on, let's clean this DataFrame up a bit, to make it easier to use.   First, let's assign names to the columns, so that we can remember what information each column holds.   Second, you'll notice that Spark has created an extra final column (filled with `null` values) because each line in the input file ends with a separator character (|).  Let's drop that final column, since we don't need it.   Run the following code to do this:"
      ]
    },
    {
      "cell_type": "code",
      "execution_count": 8,
      "metadata": {
        "deletable": false,
        "id": "OXSkfqqtC1Gf",
        "tags": [
          "test"
        ],
        "colab": {
          "base_uri": "https://localhost:8080/"
        },
        "outputId": "968df3dc-8492-49a7-ccb0-2fdfe226f594"
      },
      "outputs": [
        {
          "output_type": "stream",
          "name": "stdout",
          "text": [
            "+---------+----------+---------+--------------------+\n",
            "|NationKey|      Name|RegionKey|             Comment|\n",
            "+---------+----------+---------+--------------------+\n",
            "|        0|   ALGERIA|        0| haggle. carefull...|\n",
            "|        1| ARGENTINA|        1|al foxes promise ...|\n",
            "|        2|    BRAZIL|        1|y alongside of th...|\n",
            "|        3|    CANADA|        1|eas hang ironic, ...|\n",
            "|        4|     EGYPT|        4|y above the caref...|\n",
            "|        5|  ETHIOPIA|        0|ven packages wake...|\n",
            "|        6|    FRANCE|        3|refully final req...|\n",
            "|        7|   GERMANY|        3|l platelets. regu...|\n",
            "|        8|     INDIA|        2|ss excuses cajole...|\n",
            "|        9| INDONESIA|        2| slyly express as...|\n",
            "|       10|      IRAN|        4|efully alongside ...|\n",
            "|       11|      IRAQ|        4|nic deposits boos...|\n",
            "|       12|     JAPAN|        2|ously. final, exp...|\n",
            "|       13|    JORDAN|        4|ic deposits are b...|\n",
            "|       14|     KENYA|        0| pending excuses ...|\n",
            "|       15|   MOROCCO|        0|rns. blithely bol...|\n",
            "|       16|MOZAMBIQUE|        0|s. ironic, unusua...|\n",
            "|       17|      PERU|        1|platelets. blithe...|\n",
            "|       18|     CHINA|        2|c dependencies. f...|\n",
            "|       19|   ROMANIA|        3|ular asymptotes a...|\n",
            "+---------+----------+---------+--------------------+\n",
            "only showing top 20 rows\n",
            "\n"
          ]
        }
      ],
      "source": [
        "nation = nation_raw.toDF('NationKey','Name','RegionKey','Comment','extra').drop('extra').cache()\n",
        "nation.show()"
      ]
    },
    {
      "cell_type": "markdown",
      "metadata": {
        "deletable": false,
        "id": "xZbbMWnnC1Gg",
        "tags": [
          "instructions"
        ]
      },
      "source": [
        "This style of code should look familar to you.  We started with the `nation_raw` DataFrame and applied a series of DataFrame operations (`toDF`, `drop`, and `cache`).   This is just like the RDD interface, except now we are applying DataFrame operations to DataFrames, instead of RDD operations to RDDs.\n",
        "\n",
        "Next, let's load up the TPC-H Supplier table, and then try performing some queries:"
      ]
    },
    {
      "cell_type": "code",
      "execution_count": 7,
      "metadata": {
        "deletable": false,
        "id": "N_0dLU6mC1Gg",
        "tags": [
          "test"
        ],
        "colab": {
          "base_uri": "https://localhost:8080/"
        },
        "outputId": "36666ef2-2aa9-4d1a-d562-3a6e0a8f0d75"
      },
      "outputs": [
        {
          "output_type": "stream",
          "name": "stdout",
          "text": [
            "+-------+------------------+--------------------+---------+---------------+-------+--------------------+\n",
            "|SuppKey|              Name|             Address|NationKey|          Phone|AcctBal|             Comment|\n",
            "+-------+------------------+--------------------+---------+---------------+-------+--------------------+\n",
            "|      1|Supplier#000000001| N kD4on9OM Ipw3,...|       17|27-918-335-1736|5755.94|each slyly above ...|\n",
            "|      2|Supplier#000000002|89eJ5ksX3ImxJQBvx...|        5|15-679-861-2259|4032.68| slyly bold instr...|\n",
            "|      3|Supplier#000000003|q1,G3Pj6OjIuUYfUo...|        1|11-383-516-1199| 4192.4|blithely silent r...|\n",
            "|      4|Supplier#000000004|Bk7ah4CK8SYQTepEm...|       15|25-843-787-7479|4641.08|riously even requ...|\n",
            "|      5|Supplier#000000005|   Gcdm2rJRzl5qlTVzc|       11|21-151-690-3663|-283.84|. slyly regular p...|\n",
            "|      6|Supplier#000000006|        tQxuVm7s7CnK|       14|24-696-997-4969|1365.79|final accounts. r...|\n",
            "|      7|Supplier#000000007|s,4TicNGB4uO6PaSq...|       23|33-990-965-2201|6820.35|s unwind silently...|\n",
            "|      8|Supplier#000000008|9Sq4bBH2FQEmaFOoc...|       17|27-498-742-3860|7627.85|al pinto beans. a...|\n",
            "|      9|Supplier#000000009|1KhUgZegwM3ua7dsY...|       10|20-403-398-8662|5302.37|s. unusual, even ...|\n",
            "|     10|Supplier#000000010|  Saygah3gYWMp72i PY|       24|34-852-489-8585|3891.91|ing waters. regul...|\n",
            "|     11|Supplier#000000011|    JfwTs,LZrV, M,9C|       18|28-613-996-1505|3393.08|y ironic packages...|\n",
            "|     12|Supplier#000000012|         aLIW  q0HYd|        8|18-179-925-7181|1432.69|al packages nag a...|\n",
            "|     13|Supplier#000000013|HK71HQyWoqRWOX8GI...|        3|13-727-620-7813|9107.22|requests engage r...|\n",
            "|     14|Supplier#000000014|     EXsnO5pTNj4iZRm|       15|25-656-247-5058|9189.82|l accounts boost....|\n",
            "|     15|Supplier#000000015|olXVbNBfVzRqgokr1...|        8|18-453-357-6394| 308.56| across the furio...|\n",
            "|     16|Supplier#000000016|YjP5C55zHDXL7LalK...|       22|32-822-502-4215|2972.26|ously express ide...|\n",
            "|     17|Supplier#000000017|c2d,ESHRSkK3WYnxp...|       19|29-601-884-9219|1687.81|eep against the f...|\n",
            "|     18|Supplier#000000018|    PGGVE5PWAMwKDZw |       16|26-729-551-1115|7040.82|accounts snooze s...|\n",
            "|     19|Supplier#000000019|edZT3es,nBFD8lBXT...|       24|34-278-310-2731|6150.38|refully final fox...|\n",
            "|     20|Supplier#000000020|iybAE,RmTymrZVYaF...|        3|13-715-945-6730| 530.82|n, ironic ideas w...|\n",
            "+-------+------------------+--------------------+---------+---------------+-------+--------------------+\n",
            "only showing top 20 rows\n",
            "\n"
          ]
        }
      ],
      "source": [
        "supplier_raw = spark.read.csv(\"supplier.tbl\",sep='|',inferSchema=True).drop(\"_c7\")\n",
        "supplier = supplier_raw.toDF(\"SuppKey\",\"Name\",\"Address\",\"NationKey\",\"Phone\",\"AcctBal\",\"Comment\").cache()\n",
        "supplier.show()"
      ]
    },
    {
      "cell_type": "markdown",
      "metadata": {
        "deletable": false,
        "id": "KF0R8aWdC1Gh",
        "tags": [
          "instructions"
        ]
      },
      "source": [
        "---\n",
        "#### Writing Queries\n",
        "There are two equivalent ways of writing queries over Spark DataFrames.   The first way is to assign a \"view name\" to the DataFrame, and then write SQL queries referring to those view names using the `sql` operation.  \n",
        "\n",
        "The code below gives the view names \"nation\" and \"supplier\" to the two DataFrames we've already created."
      ]
    },
    {
      "cell_type": "code",
      "execution_count": 10,
      "metadata": {
        "deletable": false,
        "id": "-cDsMeG9C1Gh",
        "tags": [
          "test"
        ]
      },
      "outputs": [],
      "source": [
        "supplier.createOrReplaceTempView(\"supplier\")\n",
        "nation.createOrReplaceTempView(\"nation\")"
      ]
    },
    {
      "cell_type": "markdown",
      "metadata": {
        "deletable": false,
        "id": "QudYzGNFC1Gh",
        "tags": [
          "instructions"
        ]
      },
      "source": [
        "Now, we can write SQL queries that refer to the \"supplier\" and \"nation\" views as tables.   For example, suppose we want to see the names and addresses of suppliers who have account balances above 9900.00:"
      ]
    },
    {
      "cell_type": "code",
      "execution_count": 11,
      "metadata": {
        "deletable": false,
        "id": "-H4sAftlC1Gi",
        "tags": [
          "test"
        ],
        "colab": {
          "base_uri": "https://localhost:8080/"
        },
        "outputId": "aaed87ae-43db-49bf-e0ac-0fa000cca90c"
      },
      "outputs": [
        {
          "output_type": "stream",
          "name": "stdout",
          "text": [
            "+------------------+--------------------+-------+\n",
            "|              Name|             Address|AcctBal|\n",
            "+------------------+--------------------+-------+\n",
            "|Supplier#000000049|     Nvq 6macF4GtJvz|9915.24|\n",
            "|Supplier#000000234|iMrk7HUD87at3IIh4rBi| 9957.0|\n",
            "|Supplier#000000693|S,mnHfsroFOVieQGd...|9956.55|\n",
            "|Supplier#000000855|ekQwhb9fh5VGIvMBJ...|9964.88|\n",
            "|Supplier#000000892|j6prA4M3sX9a9xHem...|9993.46|\n",
            "+------------------+--------------------+-------+\n",
            "\n"
          ]
        }
      ],
      "source": [
        "q1_result = spark.sql(\"select Name, Address, AcctBal from supplier where AcctBal > 9900.00\")\n",
        "q1_result.show()"
      ]
    },
    {
      "cell_type": "markdown",
      "metadata": {
        "deletable": false,
        "id": "YzNdZp56C1Gi",
        "tags": [
          "instructions"
        ]
      },
      "source": [
        "In the example above, the `sql` command runs the SQL query against the supplier table.   It returns the query result as a new DataFrame, which `q1_result` refers to.\n",
        "\n",
        "Instead of writing your queries in SQL and running them using `sql`, it is possible to do the same thing by applying a sequence of DataFrame operations to the input DataFrames, as you did when you were using the RDD interface in the previous assignments.    For example, to answer the same query that we just answered using SQL, we can do the following:"
      ]
    },
    {
      "cell_type": "code",
      "execution_count": 12,
      "metadata": {
        "deletable": false,
        "id": "dCBfPiHwC1Gi",
        "tags": [
          "test"
        ],
        "colab": {
          "base_uri": "https://localhost:8080/"
        },
        "outputId": "27fe86c3-291a-48ed-e2cc-706a82f33d4c"
      },
      "outputs": [
        {
          "output_type": "stream",
          "name": "stdout",
          "text": [
            "+------------------+--------------------+-------+\n",
            "|              Name|             Address|AcctBal|\n",
            "+------------------+--------------------+-------+\n",
            "|Supplier#000000049|     Nvq 6macF4GtJvz|9915.24|\n",
            "|Supplier#000000234|iMrk7HUD87at3IIh4rBi| 9957.0|\n",
            "|Supplier#000000693|S,mnHfsroFOVieQGd...|9956.55|\n",
            "|Supplier#000000855|ekQwhb9fh5VGIvMBJ...|9964.88|\n",
            "|Supplier#000000892|j6prA4M3sX9a9xHem...|9993.46|\n",
            "+------------------+--------------------+-------+\n",
            "\n"
          ]
        }
      ],
      "source": [
        "q1_resultB = supplier.filter(\"AcctBal > 9900.00\").select('Name','Address','AcctBal')\n",
        "q1_resultB.show()"
      ]
    },
    {
      "cell_type": "markdown",
      "metadata": {
        "id": "pCfY8P2IC1Gj",
        "tags": [
          "instructions"
        ]
      },
      "source": [
        "Both methods should give the same result.   Internally, Spark handles both similarly.   For this assignment, you'll be asked to try out both methods.\n",
        "\n",
        "Now it is time for you to try writing your own queries."
      ]
    },
    {
      "cell_type": "markdown",
      "metadata": {
        "id": "STkHl4KOC1Gj",
        "tags": [
          "instructions"
        ]
      },
      "source": [
        "### Important\n",
        "\n",
        "###### The questions that follow ask you to implement functions whose prototypes are given to you. Do **not** change the prototypes of the functions. Do **not** write code outside of the functions.\n",
        "\n",
        "##### You may use specific cells, identified by `# Your tests here`, for test purposes. Code in these cells will *not* be executed when marking your assignment.\n",
        "\n",
        "##### We will make sure the function `load_dataset_and_set_views()` is called before your answers to other questions.\n",
        "\n",
        "---\n",
        "#### Question 0\n",
        "First, you will instantiate the DataFrames and set the views needed to answer the following questions.\n",
        "Modify the code in the cell below to read the corresponding tables from disk in the same fashion as the supplier table. Keep the column names consistent with the [TPC-H schema](http://www.tpc.org/TPC_Documents_Current_Versions/pdf/tpc-h_v2.17.3.pdf) (page 13)."
      ]
    },
    {
      "cell_type": "code",
      "execution_count": 13,
      "metadata": {
        "deletable": false,
        "id": "51r8AkHXC1Gk",
        "tags": [
          "setup",
          "global",
          "code"
        ]
      },
      "outputs": [],
      "source": [
        "# A5Q0\n",
        "def load_dataset_and_set_views():\n",
        "    global supplier, orders, customer, partsupp, nation, part\n",
        "\n",
        "    supplier_raw = spark.read.csv(\"supplier.tbl\",sep='|',inferSchema=True).drop(\"_c7\")\n",
        "    supplier = supplier_raw.toDF(\"SuppKey\",\"Name\",\"Address\",\"NationKey\",\"Phone\",\"AcctBal\",\"Comment\").cache()\n",
        "    supplier.createOrReplaceTempView(\"supplier\")\n",
        "\n",
        "    # Your solution to Question 0 here\n",
        "    order_raw = spark.read.csv(\"orders.tbl\", sep='|', inferSchema=True).drop(\"_c9\")\n",
        "    orders = order_raw.toDF(\"OrderKey\", \"CustKey\", \"OrderStatus\", \"TotalPrice\", \"OrderDate\", \"OrderPriority\", \"Clerk\", \"ShipPriority\", \"Comment\").cache()\n",
        "    orders.createOrReplaceTempView(\"orders\")\n",
        "\n",
        "    customer_raw = spark.read.csv(\"customer.tbl\", sep='|', inferSchema=True).drop(\"_c8\")\n",
        "    customer = customer_raw.toDF(\"CustKey\", \"Name\", \"Address\", \"NationKey\", \"Phone\", \"AcctBal\", \"MktSegment\", \"Comment\").cache()\n",
        "    customer.createOrReplaceTempView(\"customer\")\n",
        "\n",
        "    partsupp_raw = spark.read.csv(\"partsupp.tbl\", sep='|', inferSchema=True).drop(\"_c5\")\n",
        "    partsupp = partsupp_raw.toDF(\"PartKey\", \"SuppKey\", \"AvailQty\", \"SupplyCost\", \"Comment\").cache()\n",
        "    partsupp.createOrReplaceTempView(\"partsupp\")\n",
        "\n",
        "    nation_raw = spark.read.csv(\"nation.tbl\", sep='|', inferSchema=True).drop(\"_c4\")\n",
        "    nation = nation_raw.toDF(\"NationKey\", \"Name\", \"RegionKey\", \"Comment\").cache()\n",
        "    nation.createOrReplaceTempView(\"nation\")\n",
        "\n",
        "    part_raw = spark.read.csv(\"part.tbl\", sep='|', inferSchema=True).drop(\"_c9\")\n",
        "    part = part_raw.toDF(\"PartKey\", \"Name\", \"Mfgr\", \"Brand\", \"Type\", \"Size\", \"Container\", \"RetailPrice\", \"Comment\").cache()\n",
        "    part.createOrReplaceTempView(\"part\")"
      ]
    },
    {
      "cell_type": "code",
      "execution_count": 14,
      "metadata": {
        "deletable": false,
        "id": "9aStOLWEC1Gk",
        "tags": [
          "test",
          "setup"
        ],
        "colab": {
          "base_uri": "https://localhost:8080/"
        },
        "outputId": "c351fddb-1ba5-409f-d2b3-ee1123b7d8d3"
      },
      "outputs": [
        {
          "output_type": "stream",
          "name": "stdout",
          "text": [
            "+-------+------------------+--------------------+---------+---------------+-------+--------------------+\n",
            "|SuppKey|              Name|             Address|NationKey|          Phone|AcctBal|             Comment|\n",
            "+-------+------------------+--------------------+---------+---------------+-------+--------------------+\n",
            "|      1|Supplier#000000001| N kD4on9OM Ipw3,...|       17|27-918-335-1736|5755.94|each slyly above ...|\n",
            "|      2|Supplier#000000002|89eJ5ksX3ImxJQBvx...|        5|15-679-861-2259|4032.68| slyly bold instr...|\n",
            "|      3|Supplier#000000003|q1,G3Pj6OjIuUYfUo...|        1|11-383-516-1199| 4192.4|blithely silent r...|\n",
            "|      4|Supplier#000000004|Bk7ah4CK8SYQTepEm...|       15|25-843-787-7479|4641.08|riously even requ...|\n",
            "|      5|Supplier#000000005|   Gcdm2rJRzl5qlTVzc|       11|21-151-690-3663|-283.84|. slyly regular p...|\n",
            "+-------+------------------+--------------------+---------+---------------+-------+--------------------+\n",
            "only showing top 5 rows\n",
            "\n",
            "+--------+-------+-----------+----------+----------+-------------+---------------+------------+--------------------+\n",
            "|OrderKey|CustKey|OrderStatus|TotalPrice| OrderDate|OrderPriority|          Clerk|ShipPriority|             Comment|\n",
            "+--------+-------+-----------+----------+----------+-------------+---------------+------------+--------------------+\n",
            "|       1|   3691|          O| 194029.55|1996-01-02|        5-LOW|Clerk#000000951|           0|nstructions sleep...|\n",
            "|       2|   7801|          O|  60951.63|1996-12-01|     1-URGENT|Clerk#000000880|           0| foxes. pending a...|\n",
            "|       3|  12332|          F| 247296.05|1993-10-14|        5-LOW|Clerk#000000955|           0|sly final account...|\n",
            "|       4|  13678|          O|  53829.87|1995-10-11|        5-LOW|Clerk#000000124|           0|sits. slyly regul...|\n",
            "|       5|   4450|          F| 139660.54|1994-07-30|        5-LOW|Clerk#000000925|           0|quickly. bold dep...|\n",
            "+--------+-------+-----------+----------+----------+-------------+---------------+------------+--------------------+\n",
            "only showing top 5 rows\n",
            "\n",
            "+-------+------------------+--------------------+---------+---------------+-------+----------+--------------------+\n",
            "|CustKey|              Name|             Address|NationKey|          Phone|AcctBal|MktSegment|             Comment|\n",
            "+-------+------------------+--------------------+---------+---------------+-------+----------+--------------------+\n",
            "|      1|Customer#000000001|   IVhzIApeRb ot,c,E|       15|25-989-741-2988| 711.56|  BUILDING|to the even, regu...|\n",
            "|      2|Customer#000000002|XSTf4,NCwDVaWNe6t...|       13|23-768-687-3665| 121.65|AUTOMOBILE|l accounts. blith...|\n",
            "|      3|Customer#000000003|        MG9kdTD2WBHm|        1|11-719-748-3364|7498.12|AUTOMOBILE| deposits eat sly...|\n",
            "|      4|Customer#000000004|         XxVSJsLAGtn|        4|14-128-190-5944|2866.83| MACHINERY| requests. final,...|\n",
            "|      5|Customer#000000005|KvpyuHCplrB84WgAi...|        3|13-750-942-6364| 794.47| HOUSEHOLD|n accounts will h...|\n",
            "+-------+------------------+--------------------+---------+---------------+-------+----------+--------------------+\n",
            "only showing top 5 rows\n",
            "\n",
            "+-------+-------+--------+----------+--------------------+\n",
            "|PartKey|SuppKey|AvailQty|SupplyCost|             Comment|\n",
            "+-------+-------+--------+----------+--------------------+\n",
            "|      1|      2|    3325|    771.64|, even theodolite...|\n",
            "|      1|    252|    8076|    993.49|ven ideas. quickl...|\n",
            "|      1|    502|    3956|    337.09|after the fluffil...|\n",
            "|      1|    752|    4069|    357.84|al, regular depen...|\n",
            "|      2|      3|    8895|    378.49|nic accounts. fin...|\n",
            "+-------+-------+--------+----------+--------------------+\n",
            "only showing top 5 rows\n",
            "\n",
            "+---------+---------+---------+--------------------+\n",
            "|NationKey|     Name|RegionKey|             Comment|\n",
            "+---------+---------+---------+--------------------+\n",
            "|        0|  ALGERIA|        0| haggle. carefull...|\n",
            "|        1|ARGENTINA|        1|al foxes promise ...|\n",
            "|        2|   BRAZIL|        1|y alongside of th...|\n",
            "|        3|   CANADA|        1|eas hang ironic, ...|\n",
            "|        4|    EGYPT|        4|y above the caref...|\n",
            "+---------+---------+---------+--------------------+\n",
            "only showing top 5 rows\n",
            "\n",
            "+-------+--------------------+--------------+--------+--------------------+----+---------+-----------+-------------------+\n",
            "|PartKey|                Name|          Mfgr|   Brand|                Type|Size|Container|RetailPrice|            Comment|\n",
            "+-------+--------------------+--------------+--------+--------------------+----+---------+-----------+-------------------+\n",
            "|      1|goldenrod lavende...|Manufacturer#1|Brand#13|PROMO BURNISHED C...|   7|JUMBO PKG|      901.0|    ly. slyly ironi|\n",
            "|      2|blush thistle blu...|Manufacturer#1|Brand#13| LARGE BRUSHED BRASS|   1|  LG CASE|      902.0|   lar accounts amo|\n",
            "|      3|spring green yell...|Manufacturer#4|Brand#42|STANDARD POLISHED...|  21|WRAP CASE|      903.0|egular deposits hag|\n",
            "|      4|cornflower chocol...|Manufacturer#3|Brand#34|  SMALL PLATED BRASS|  14| MED DRUM|      904.0|      p furiously r|\n",
            "|      5|forest brown cora...|Manufacturer#3|Brand#32|STANDARD POLISHED...|  15|   SM PKG|      905.0|    wake carefully |\n",
            "+-------+--------------------+--------------+--------+--------------------+----+---------+-----------+-------------------+\n",
            "only showing top 5 rows\n",
            "\n"
          ]
        }
      ],
      "source": [
        "# Your tests here\n",
        "load_dataset_and_set_views()\n",
        "supplier.show(5)\n",
        "orders.show(5)\n",
        "customer.show(5)\n",
        "partsupp.show(5)\n",
        "nation.show(5)\n",
        "part.show(5)\n"
      ]
    },
    {
      "cell_type": "markdown",
      "metadata": {
        "id": "zjDuhsfJC1Gl",
        "tags": [
          "instructions"
        ]
      },
      "source": [
        "---\n",
        "#### Question 1 (2/25 marks)\n",
        "In the cell below, implement the function `five_highest_totalprice_orders_sql()` that will return the ORDERKEY, ORDERDATE, and TOTALPRICE of the five orders with the highest TOTALPRICE. Express your query in SQL, and use `sql` to execute it. The function must return a DataFrame with the corresponding schema `ORDERKEY, ORDERDATE, TOTALPRICE`. Use the view(s) or DataFrame(s) created in Question 0."
      ]
    },
    {
      "cell_type": "code",
      "execution_count": 15,
      "metadata": {
        "deletable": false,
        "id": "6LgeOpebC1Gl",
        "tags": [
          "code"
        ]
      },
      "outputs": [],
      "source": [
        "# A5Q1\n",
        "def five_highest_totalprice_orders_sql():\n",
        "    # Your solution to Question 1 here\n",
        "    query = \"\"\"\n",
        "        SELECT ORDERKEY, ORDERDATE, TOTALPRICE\n",
        "        FROM orders\n",
        "        ORDER BY TOTALPRICE DESC\n",
        "        LIMIT 5\n",
        "    \"\"\"\n",
        "    result = spark.sql(query)\n",
        "    return result\n"
      ]
    },
    {
      "cell_type": "code",
      "execution_count": 16,
      "metadata": {
        "deletable": false,
        "id": "w5_b0dErC1Gl",
        "tags": [
          "test"
        ],
        "colab": {
          "base_uri": "https://localhost:8080/"
        },
        "outputId": "3090aad1-f42c-4d62-9601-98c79a9244c3"
      },
      "outputs": [
        {
          "output_type": "stream",
          "name": "stdout",
          "text": [
            "+--------+----------+----------+\n",
            "|ORDERKEY| ORDERDATE|TOTALPRICE|\n",
            "+--------+----------+----------+\n",
            "|  279812|1994-02-19| 479129.21|\n",
            "|  370726|1996-09-29|  460099.4|\n",
            "|   66659|1993-10-15| 458396.42|\n",
            "|  253639|1998-01-23| 456532.89|\n",
            "|  502886|1994-04-12| 456423.88|\n",
            "+--------+----------+----------+\n",
            "\n"
          ]
        }
      ],
      "source": [
        "# Your tests here\n",
        "five_highest_totalprice_orders_sql().show()"
      ]
    },
    {
      "cell_type": "markdown",
      "metadata": {
        "deletable": false,
        "id": "5RP5q9AwC1Gl",
        "tags": [
          "instructions"
        ]
      },
      "source": [
        "---\n",
        "#### Question 2 (2/25 marks)\n",
        "In the cell below, implement the function `five_highest_totalprice_orders_dtf()` to answer the same query you answered in Question 1, but this time do not use the `sql` method. The function must returns a DataFrame with the corresponding schema `ORDERKEY, ORDERDATE, TOTALPRICE`, ordered by TOTALPRICE value. Use the view(s) or DataFrame(s) created in Question 0."
      ]
    },
    {
      "cell_type": "code",
      "execution_count": 17,
      "metadata": {
        "deletable": false,
        "id": "530hPHAaC1Gm",
        "tags": [
          "code"
        ]
      },
      "outputs": [],
      "source": [
        "# A5Q2\n",
        "def five_highest_totalprice_orders_dtf():\n",
        "    # Your solution to Question 2 here\n",
        "    result = orders.select(\"OrderKey\", \"OrderDate\", \"TotalPrice\") \\\n",
        "                   .orderBy(\"TotalPrice\", ascending=False) \\\n",
        "                   .limit(5)\n",
        "    return result\n"
      ]
    },
    {
      "cell_type": "code",
      "execution_count": 24,
      "metadata": {
        "deletable": false,
        "id": "QxuYASvlC1Gm",
        "tags": [
          "test"
        ],
        "colab": {
          "base_uri": "https://localhost:8080/"
        },
        "outputId": "53b87df7-3937-4b68-99b2-bd524347a9a2"
      },
      "outputs": [
        {
          "output_type": "stream",
          "name": "stdout",
          "text": [
            "+--------+----------+----------+\n",
            "|OrderKey| OrderDate|TotalPrice|\n",
            "+--------+----------+----------+\n",
            "|  279812|1994-02-19| 479129.21|\n",
            "|  370726|1996-09-29|  460099.4|\n",
            "|   66659|1993-10-15| 458396.42|\n",
            "|  253639|1998-01-23| 456532.89|\n",
            "|  502886|1994-04-12| 456423.88|\n",
            "+--------+----------+----------+\n",
            "\n"
          ]
        }
      ],
      "source": [
        "# Your tests here\n",
        "five_highest_totalprice_orders_dtf().show()"
      ]
    },
    {
      "cell_type": "markdown",
      "metadata": {
        "deletable": false,
        "id": "J2IGEJ6_C1Gm",
        "tags": [
          "instructions"
        ]
      },
      "source": [
        "---\n",
        "#### Question 3 (3/25 marks)\n",
        "In the cell below, implement the function `cust_most_recent_order_sql(custkey)` that takes a Customer Key as an input and returns the customer's name as well as the ORDERDATE and TOTALPRICE of that customer's most recent order.   Express the query in SQL, and use `sql` to execute it. You will need to use information from multiple tables to generate your answer. Use the view(s) or DataFrame(s) created in Question 0."
      ]
    },
    {
      "cell_type": "code",
      "execution_count": 18,
      "metadata": {
        "deletable": false,
        "id": "_VF49h0kC1Gn",
        "tags": [
          "code"
        ]
      },
      "outputs": [],
      "source": [
        "# A5Q3\n",
        "def cust_most_recent_order_sql(custkey):\n",
        "    # Your solution to Question 3 here\n",
        "    query = f\"\"\"\n",
        "        SELECT c.Name AS CustomerName, o.OrderDate, o.TotalPrice\n",
        "        FROM customer c\n",
        "        JOIN orders o\n",
        "        ON c.CustKey = o.CustKey\n",
        "        WHERE c.CustKey = {custkey}\n",
        "        ORDER BY o.OrderDate DESC\n",
        "        LIMIT 1\n",
        "    \"\"\"\n",
        "    result = spark.sql(query)\n",
        "    return result\n"
      ]
    },
    {
      "cell_type": "code",
      "execution_count": 19,
      "metadata": {
        "deletable": false,
        "id": "Pc3dX8DqC1Gn",
        "tags": [
          "test"
        ],
        "colab": {
          "base_uri": "https://localhost:8080/"
        },
        "outputId": "6ed9a8dd-e190-49d4-be52-f92187512271"
      },
      "outputs": [
        {
          "output_type": "stream",
          "name": "stdout",
          "text": [
            "+------------------+----------+----------+\n",
            "|      CustomerName| OrderDate|TotalPrice|\n",
            "+------------------+----------+----------+\n",
            "|Customer#000000001|1997-03-04| 268835.44|\n",
            "+------------------+----------+----------+\n",
            "\n"
          ]
        }
      ],
      "source": [
        "# Your tests here\n",
        "cust_most_recent_order_sql(1).show()\n"
      ]
    },
    {
      "cell_type": "markdown",
      "metadata": {
        "deletable": false,
        "id": "Bk2QF0pNC1Gn",
        "tags": [
          "instructions"
        ]
      },
      "source": [
        "---\n",
        "#### Question 4 (3/25 marks)\n",
        "In the cell below, answer the same query you answered in Question 3, but this time do not use the `sql` method. Use the view(s) or DataFrame(s) created in Question 0."
      ]
    },
    {
      "cell_type": "code",
      "execution_count": 20,
      "metadata": {
        "deletable": false,
        "id": "qAMV9vAoC1Gn",
        "tags": [
          "code"
        ]
      },
      "outputs": [],
      "source": [
        "# A5Q4\n",
        "\n",
        "def cust_most_recent_order_dtf(custkey):\n",
        "    # Your solution to Question 4 here\n",
        "    customer_filtered = customer.filter(customer.CustKey == custkey).select(\"Name\", \"CustKey\")\n",
        "    joined_df = customer_filtered.join(orders, customer_filtered.CustKey == orders.CustKey)\n",
        "    result = joined_df.select(\"Name\", \"OrderDate\", \"TotalPrice\") \\\n",
        "                      .orderBy(\"OrderDate\", ascending=False) \\\n",
        "                      .limit(1)\n",
        "    return result\n"
      ]
    },
    {
      "cell_type": "code",
      "execution_count": 21,
      "metadata": {
        "deletable": false,
        "id": "yaUrQINMC1Go",
        "tags": [
          "test"
        ],
        "colab": {
          "base_uri": "https://localhost:8080/"
        },
        "outputId": "08c51ce2-4e3e-4a42-ed90-cf5b42f94a11"
      },
      "outputs": [
        {
          "output_type": "stream",
          "name": "stdout",
          "text": [
            "+------------------+----------+----------+\n",
            "|              Name| OrderDate|TotalPrice|\n",
            "+------------------+----------+----------+\n",
            "|Customer#000000001|1997-03-04| 268835.44|\n",
            "+------------------+----------+----------+\n",
            "\n"
          ]
        }
      ],
      "source": [
        "# Your tests here\n",
        "cust_most_recent_order_dtf(1).show()\n"
      ]
    },
    {
      "cell_type": "markdown",
      "metadata": {
        "deletable": false,
        "id": "owB5BITMC1Go",
        "tags": [
          "instructions"
        ]
      },
      "source": [
        "---\n",
        "#### Question 5 (5/25 marks)\n",
        "In the cell below, implement `distinct_supplied_parts(nname)` that will return the number of distinct parts supplied by suppliers that are located in the given nation. The function must output an **integer** (not a DataFrame).\n",
        "\n",
        "You may answer this question with or without using `sql` - whichever you prefer. Use the view(s) or DataFrame(s) created in Question 0."
      ]
    },
    {
      "cell_type": "code",
      "execution_count": 22,
      "metadata": {
        "deletable": false,
        "id": "hp4mUYHxC1Go",
        "tags": [
          "code"
        ]
      },
      "outputs": [],
      "source": [
        "# A5Q5\n",
        "\n",
        "def distinct_supplied_parts(nname):\n",
        "    # Your solution to Question 5 here\n",
        "    query = f\"\"\"\n",
        "        SELECT COUNT(DISTINCT ps.PartKey) AS DistinctPartCount\n",
        "        FROM supplier s\n",
        "        JOIN nation n ON s.NationKey = n.NationKey\n",
        "        JOIN partsupp ps ON s.SuppKey = ps.SuppKey\n",
        "        WHERE n.Name = '{nname}'\n",
        "    \"\"\"\n",
        "    result = spark.sql(query)\n",
        "    return result.collect()[0]['DistinctPartCount']\n"
      ]
    },
    {
      "cell_type": "code",
      "execution_count": 23,
      "metadata": {
        "deletable": false,
        "id": "DZED9ggQC1Go",
        "tags": [
          "test"
        ],
        "colab": {
          "base_uri": "https://localhost:8080/"
        },
        "outputId": "5de9040d-8b3e-4ead-bba1-9c3a2b6ec938"
      },
      "outputs": [
        {
          "output_type": "execute_result",
          "data": {
            "text/plain": [
              "2799"
            ]
          },
          "metadata": {},
          "execution_count": 23
        }
      ],
      "source": [
        "# Your tests here\n",
        "distinct_supplied_parts(\"CANADA\")\n"
      ]
    },
    {
      "cell_type": "markdown",
      "metadata": {
        "deletable": false,
        "id": "CI3XP6NdC1Gp",
        "tags": [
          "instructions"
        ]
      },
      "source": [
        "---\n",
        "#### Question 6 (5/25 marks)\n",
        "In the cell below, implement `count_suppliers_brand_per_nation(bname)` that takes a brand name as input, like those that appear in the Parts table.  Given the brand,\n",
        "report, for each nation, a count of that nation's suppliers of parts having that brand, ordered by nation name.   Your output should be a table (i.e. DataFrame) of nations and their supplier counts. Each supplier should be counted at most once in a nation's total, even if that supplier produces multiple parts with the given brand.\n",
        "\n",
        "You may answer this question with or without using `sql` - whichever you prefer. Use the view(s) or DataFrame(s) created in Question 0."
      ]
    },
    {
      "cell_type": "code",
      "execution_count": 24,
      "metadata": {
        "deletable": false,
        "id": "nz6WzWX8C1Gp",
        "tags": [
          "code"
        ]
      },
      "outputs": [],
      "source": [
        "# A5Q6\n",
        "\n",
        "def count_suppliers_brand_per_nation(bname):\n",
        "    # Your solution to Question 6 here\n",
        "    query = f\"\"\"\n",
        "        SELECT\n",
        "            n.Name AS Nation,\n",
        "            COUNT(DISTINCT s.SuppKey) AS SupplierCount\n",
        "        FROM\n",
        "            supplier s\n",
        "        JOIN\n",
        "            nation n ON s.NationKey = n.NationKey\n",
        "        JOIN\n",
        "            partsupp ps ON s.SuppKey = ps.SuppKey\n",
        "        JOIN\n",
        "            part p ON ps.PartKey = p.PartKey\n",
        "        WHERE\n",
        "            p.Brand = '{bname}'\n",
        "        GROUP BY\n",
        "            n.Name\n",
        "        ORDER BY\n",
        "            n.Name\n",
        "    \"\"\"\n",
        "    result = spark.sql(query)\n",
        "    return result\n"
      ]
    },
    {
      "cell_type": "code",
      "execution_count": 25,
      "metadata": {
        "deletable": false,
        "id": "d5-gACGvC1Gp",
        "tags": [
          "test"
        ],
        "colab": {
          "base_uri": "https://localhost:8080/"
        },
        "outputId": "5bb08b8d-af6b-4c62-c5de-286e2834e171"
      },
      "outputs": [
        {
          "output_type": "stream",
          "name": "stdout",
          "text": [
            "+----------+-------------+\n",
            "|    Nation|SupplierCount|\n",
            "+----------+-------------+\n",
            "|   ALGERIA|           34|\n",
            "| ARGENTINA|           38|\n",
            "|    BRAZIL|           41|\n",
            "|    CANADA|           35|\n",
            "|     CHINA|           51|\n",
            "|     EGYPT|           39|\n",
            "|  ETHIOPIA|           32|\n",
            "|    FRANCE|           35|\n",
            "|   GERMANY|           49|\n",
            "|     INDIA|           45|\n",
            "| INDONESIA|           45|\n",
            "|      IRAN|           39|\n",
            "|      IRAQ|           40|\n",
            "|     JAPAN|           40|\n",
            "|    JORDAN|           28|\n",
            "|     KENYA|           35|\n",
            "|   MOROCCO|           40|\n",
            "|MOZAMBIQUE|           32|\n",
            "|      PERU|           37|\n",
            "|   ROMANIA|           32|\n",
            "+----------+-------------+\n",
            "only showing top 20 rows\n",
            "\n"
          ]
        }
      ],
      "source": [
        "# Your tests here\n",
        "count_suppliers_brand_per_nation(\"Brand#14\").show()"
      ]
    },
    {
      "cell_type": "markdown",
      "metadata": {
        "deletable": false,
        "id": "FqJ50yCUC1Gp",
        "tags": [
          "instructions"
        ]
      },
      "source": [
        "---\n",
        "#### Question 7 (5/25 marks)\n",
        "In the cell below, write code for the function `order_number_per_customer_nation(nname)` that will return, for a given nation name, for each year, the total number of orders placed by customers from the specified Nation, ordered by descending number of orders.\n",
        "\n",
        "You may answer this question with or without using `sql` - whichever you prefer. Use the view(s) or DataFrame(s) created in Question 0."
      ]
    },
    {
      "cell_type": "code",
      "execution_count": 26,
      "metadata": {
        "deletable": false,
        "id": "e3J8Mt4JC1Gq",
        "tags": [
          "code"
        ]
      },
      "outputs": [],
      "source": [
        "# A5Q7\n",
        "\n",
        "def order_number_per_customer_nation(nname):\n",
        "    # Your solution to Question 7 here\n",
        "    query = f\"\"\"\n",
        "    SELECT\n",
        "        YEAR(o.OrderDate) AS OrderYear,\n",
        "        COUNT(o.OrderKey) AS TotalOrders\n",
        "    FROM\n",
        "        customer c\n",
        "    JOIN\n",
        "        nation n ON c.NationKey = n.NationKey\n",
        "    JOIN\n",
        "        orders o ON c.CustKey = o.CustKey\n",
        "    WHERE\n",
        "        n.Name = '{nname}'\n",
        "    GROUP BY\n",
        "        YEAR(o.OrderDate)\n",
        "    ORDER BY\n",
        "        TotalOrders DESC\n",
        "    \"\"\"\n",
        "    result = spark.sql(query)\n",
        "    return result\n"
      ]
    },
    {
      "cell_type": "code",
      "execution_count": 27,
      "metadata": {
        "deletable": false,
        "id": "3wrZsYDuC1Gq",
        "tags": [
          "test"
        ],
        "colab": {
          "base_uri": "https://localhost:8080/"
        },
        "outputId": "d7787084-150b-4f77-de0a-674c06a6e060"
      },
      "outputs": [
        {
          "output_type": "stream",
          "name": "stdout",
          "text": [
            "+---------+-----------+\n",
            "|OrderYear|TotalOrders|\n",
            "+---------+-----------+\n",
            "|     1992|        982|\n",
            "|     1996|        940|\n",
            "|     1995|        932|\n",
            "|     1997|        921|\n",
            "|     1994|        912|\n",
            "|     1993|        900|\n",
            "|     1998|        595|\n",
            "+---------+-----------+\n",
            "\n"
          ]
        }
      ],
      "source": [
        "# Your tests here\n",
        "order_number_per_customer_nation(\"CANADA\").show()"
      ]
    },
    {
      "cell_type": "markdown",
      "metadata": {
        "id": "jz1SpqVhC1Gq",
        "tags": [
          "instructions"
        ]
      },
      "source": [
        "---\n",
        "Don't forget to save your workbook!   When you are finished and you are ready to submit your assignment, download your notebook file (.ipynb) from the hub to your machine, and then follow the submission instructions in the assignment.\n",
        "\n",
        "**Make sure that your notebook runs properly on the Jupyter hub before submitting it.**"
      ]
    }
  ],
  "metadata": {
    "colab": {
      "provenance": []
    },
    "kernelspec": {
      "display_name": "Python 3",
      "language": "python",
      "name": "python3"
    },
    "language_info": {
      "codemirror_mode": {
        "name": "ipython",
        "version": 3
      },
      "file_extension": ".py",
      "mimetype": "text/x-python",
      "name": "python",
      "nbconvert_exporter": "python",
      "pygments_lexer": "ipython3",
      "version": "3.6.7"
    }
  },
  "nbformat": 4,
  "nbformat_minor": 0
}