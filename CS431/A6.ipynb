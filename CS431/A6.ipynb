{
  "cells": [
    {
      "cell_type": "markdown",
      "metadata": {
        "deletable": false,
        "id": "I1gm9-t0i7Ok",
        "tags": [
          "instructions"
        ]
      },
      "source": [
        "## CS431/631 Data Intensive Distributed Computing\n",
        "### Fall 2024 - Assignment 6\n",
        "---"
      ]
    },
    {
      "cell_type": "markdown",
      "metadata": {
        "deletable": false,
        "id": "-CB3G_gbi7Ok",
        "tags": [
          "instructions"
        ]
      },
      "source": [
        "**Please edit this (text) cell to provide your name and UW student ID number!**\n",
        "* **Name:** Ananya Trived\n",
        "* **ID:** 20874394"
      ]
    },
    {
      "cell_type": "markdown",
      "metadata": {
        "id": "R5BLErorljlr"
      },
      "source": [
        "Let's first install Spark. This will take a minute to finish."
      ]
    },
    {
      "cell_type": "code",
      "execution_count": 1,
      "metadata": {
        "id": "lh5NCoc8fsSO",
        "colab": {
          "base_uri": "https://localhost:8080/"
        },
        "outputId": "84f398a1-08b1-4a04-cc48-f281d4ea18e6"
      },
      "outputs": [
        {
          "output_type": "stream",
          "name": "stdout",
          "text": [
            "W: Skipping acquire of configured file 'main/source/Sources' as repository 'https://r2u.stat.illinois.edu/ubuntu jammy InRelease' does not seem to provide it (sources.list entry misspelt?)\n"
          ]
        }
      ],
      "source": [
        "!apt-get update -qq > /dev/null\n",
        "!apt-get install openjdk-8-jdk-headless -qq > /dev/null\n",
        "!curl -Os https://student.cs.uwaterloo.ca/~cs451/spark/spark-3.4.3-bin-hadoop3.tgz\n",
        "!tar xzf spark-3.4.3-bin-hadoop3.tgz\n",
        "!pip install -q findspark"
      ]
    },
    {
      "cell_type": "markdown",
      "metadata": {
        "id": "KCNcVEFfwEBB"
      },
      "source": [
        "On Colab: set the environment variables"
      ]
    },
    {
      "cell_type": "code",
      "execution_count": 2,
      "metadata": {
        "id": "etxE3zcPwEBB"
      },
      "outputs": [],
      "source": [
        "import os\n",
        "os.environ[\"JAVA_HOME\"] = \"/usr/lib/jvm/java-8-openjdk-amd64\"\n",
        "os.environ[\"SPARK_HOME\"] = \"/content/spark-3.4.3-bin-hadoop3\""
      ]
    },
    {
      "cell_type": "markdown",
      "metadata": {
        "id": "ILheUROOhprv"
      },
      "source": [
        "Now that you installed Spark and Java in Colab, it is time to set the environment path which enables you to run Pyspark in your Colab environment. Next we define a function that helps us create SparkContext and StreamingContext."
      ]
    },
    {
      "cell_type": "code",
      "execution_count": 3,
      "metadata": {
        "id": "Xnxe-BhPmbBW"
      },
      "outputs": [],
      "source": [
        "\n",
        "import findspark\n",
        "findspark.init()\n",
        "\n",
        "from pyspark import SparkContext, SparkConf\n",
        "from pyspark.streaming import StreamingContext\n",
        "import time\n",
        "\n",
        "# This function creates SparkContext and StreamingContext\n",
        "# Do not change this function\n",
        "def initStreamingContext():\n",
        "    try:\n",
        "      ssc.end()\n",
        "    except:\n",
        "      pass\n",
        "    finally:\n",
        "      spark_conf = SparkConf()\\\n",
        "            .setAppName(\"YourTest\")\\\n",
        "            .setMaster(\"local[*]\")\n",
        "      sc = SparkContext.getOrCreate(spark_conf)\n",
        "      # Creating Streaming Context with batch window size of 1 second\n",
        "      ssc = StreamingContext(sc, 1)\n",
        "      return ssc"
      ]
    },
    {
      "cell_type": "markdown",
      "metadata": {
        "id": "UeHmOcUv4hg3"
      },
      "source": [
        "### Overview\n",
        "\n",
        "The data we use in this assignment was collected from the sensors installed on a wall-navigating robot. The robot uses 24 ultrasound sensors arranged circularly around its \"waist\". The numbering of the ultrasound sensors starts at the front of the robot and increases in clockwise direction. To make our data streaming scenario realistic, we have developed a server that streams the robot's data to your program (as if you are really getting the data live from the robot). You will use Spark Streaming to perform a few simple tasks on this data.\n",
        "\n",
        "Every line of data transmitted by the server corresponds to a measurement done by the robot. Here is one line of such data:\n",
        "\n",
        "```\n",
        "0.438,0.498,3.625,3.645,5.000,2.918,5.000,2.351,2.332,2.643,1.698,1.687,1.698,1.717,1.744,0.593,0.502,0.493,0.504,0.445,0.431,0.444,0.440,0.429,Slight-Right-Turn\n",
        "```\n",
        "The raw values are the measurements of all 24 ultrasound sensors and the corresponding movement type which can be one of the following:\n",
        "Move-Forward, Slight-Right-Turn, Sharp-Right-Turn, and Slight-Left-Turn.\n",
        "\n",
        "Run the following block to see the flow of data for 5 seconds. This is normal that in each run the data is slightly shifted in time because it depends on the delay of receiving the data from the server across the Internet.Therefore, in every 1 second batch, we might have different numbers of measurements and it can vary across different runs."
      ]
    },
    {
      "cell_type": "code",
      "execution_count": 4,
      "metadata": {
        "id": "BGFcbRKL7ICo",
        "colab": {
          "base_uri": "https://localhost:8080/"
        },
        "outputId": "93de4708-31ef-40db-9de8-e7871ece441f"
      },
      "outputs": [
        {
          "output_type": "stream",
          "name": "stderr",
          "text": [
            "/content/spark-3.4.3-bin-hadoop3/python/pyspark/streaming/context.py:72: FutureWarning: DStream is deprecated as of Spark 3.4.0. Migrate to Structured Streaming.\n",
            "  warnings.warn(\n"
          ]
        },
        {
          "output_type": "stream",
          "name": "stdout",
          "text": [
            "-------------------------------------------\n",
            "Time: 2024-12-04 08:27:34\n",
            "-------------------------------------------\n",
            "\n",
            "-------------------------------------------\n",
            "Time: 2024-12-04 08:27:35\n",
            "-------------------------------------------\n",
            "\n",
            "-------------------------------------------\n",
            "Time: 2024-12-04 08:27:36\n",
            "-------------------------------------------\n",
            "0.438,0.498,3.625,3.645,5.000,2.918,5.000,2.351,2.332,2.643,1.698,1.687,1.698,1.717,1.744,0.593,0.502,0.493,0.504,0.445,0.431,0.444,0.440,0.429,Slight-Right-Turn\n",
            "0.438,0.498,3.625,3.648,5.000,2.918,5.000,2.637,2.332,2.649,1.695,1.687,1.695,1.720,1.744,0.592,0.502,0.493,0.504,0.449,0.431,0.444,0.443,0.429,Slight-Right-Turn\n",
            "0.438,0.498,3.625,3.629,5.000,2.918,5.000,2.637,2.334,2.643,1.696,1.687,1.695,1.717,1.744,0.593,0.502,0.493,0.504,0.449,0.431,0.444,0.446,0.429,Slight-Right-Turn\n",
            "0.437,0.501,3.625,3.626,5.000,2.918,5.000,2.353,2.334,2.642,1.730,1.687,1.695,1.717,1.744,0.593,0.502,0.493,0.504,0.449,0.431,0.444,0.444,0.429,Slight-Right-Turn\n",
            "0.438,0.498,3.626,3.629,5.000,2.918,5.000,2.640,2.334,2.639,1.696,1.687,1.695,1.717,1.744,0.592,0.502,0.493,0.504,0.449,0.431,0.444,0.441,0.429,Slight-Right-Turn\n",
            "0.439,0.498,3.626,3.629,5.000,2.918,5.000,2.633,2.334,2.645,1.705,1.686,1.694,1.719,1.744,0.589,0.502,0.493,0.504,0.446,0.431,0.444,0.444,0.430,Slight-Right-Turn\n",
            "0.440,5.000,3.627,3.628,5.000,2.919,3.028,2.346,2.330,2.638,1.727,1.684,1.692,1.714,1.745,0.588,0.501,0.492,0.504,0.451,0.433,0.446,0.444,0.432,Slight-Right-Turn\n",
            "0.444,5.021,3.631,3.634,5.000,2.919,5.000,2.626,2.327,2.638,1.698,1.680,1.688,1.709,1.740,0.595,0.500,0.491,0.503,0.453,0.436,0.448,0.444,0.436,Slight-Right-Turn\n",
            "0.451,5.025,3.635,3.639,5.000,2.920,3.027,2.620,2.323,2.632,1.706,1.673,1.681,1.703,0.753,0.595,0.499,0.491,0.502,0.457,0.440,0.453,0.454,0.442,Sharp-Right-Turn\n",
            "0.458,5.022,3.640,3.644,5.000,2.922,5.000,2.346,2.321,2.628,1.688,1.666,1.674,1.696,0.744,0.590,0.496,0.490,0.498,0.462,0.444,0.458,0.461,0.449,Sharp-Right-Turn\n",
            "\n",
            "-------------------------------------------\n",
            "Time: 2024-12-04 08:27:37\n",
            "-------------------------------------------\n",
            "0.465,0.525,3.646,3.670,5.000,2.923,5.000,2.611,2.315,2.631,1.674,1.658,1.666,1.688,0.735,0.593,0.495,0.488,0.497,0.467,0.449,0.462,0.469,0.457,Sharp-Right-Turn\n",
            "0.473,0.533,3.652,3.676,5.000,2.925,5.000,2.607,2.310,2.623,1.669,1.651,1.659,1.684,0.729,0.578,0.496,0.487,0.498,0.469,0.454,0.467,0.476,0.465,Sharp-Right-Turn\n",
            "0.481,0.544,3.658,3.678,5.000,2.926,5.000,2.606,2.303,2.619,1.668,1.643,1.651,1.275,0.723,0.581,0.495,0.486,0.497,0.477,0.459,0.472,0.484,0.472,Sharp-Right-Turn\n",
            "0.484,0.544,3.661,3.665,5.000,2.928,5.000,2.321,2.304,5.022,1.647,1.639,1.646,1.270,0.757,0.623,0.493,0.484,0.495,0.480,0.461,0.474,0.485,0.476,Sharp-Right-Turn\n",
            "0.484,0.532,3.669,3.662,2.945,2.926,5.000,2.326,2.306,2.620,1.648,1.639,1.646,1.270,0.760,0.533,0.493,0.483,0.494,0.507,0.461,0.473,0.486,0.476,Sharp-Right-Turn\n",
            "0.482,0.520,3.685,3.664,2.952,2.927,5.000,2.981,2.307,2.329,1.650,1.640,1.644,1.268,0.757,0.533,0.492,0.482,0.492,0.513,0.459,0.474,0.485,0.474,Sharp-Right-Turn\n",
            "0.481,0.522,3.682,3.661,2.955,2.927,2.957,2.984,1.700,2.622,1.651,1.641,1.645,1.272,0.761,0.530,0.492,0.482,0.492,0.513,0.462,0.486,0.483,0.473,Sharp-Right-Turn\n",
            "0.480,0.525,3.694,3.664,2.948,2.926,2.950,2.995,1.697,2.619,1.651,1.642,1.646,1.269,0.762,0.530,0.493,0.482,0.492,0.516,0.462,0.486,0.483,0.473,Sharp-Right-Turn\n",
            "0.481,0.515,5.018,3.664,2.956,2.927,2.947,2.993,1.697,2.622,1.651,1.641,1.645,1.269,0.765,0.592,0.489,0.482,0.495,0.531,0.462,0.499,0.483,0.473,Sharp-Right-Turn\n",
            "0.479,5.000,3.696,3.661,2.953,2.927,2.944,2.993,1.702,2.622,1.649,1.642,1.645,1.269,0.812,0.588,0.489,0.481,0.491,0.510,0.462,0.481,0.483,0.473,Sharp-Right-Turn\n",
            "\n",
            "-------------------------------------------\n",
            "Time: 2024-12-04 08:27:38\n",
            "-------------------------------------------\n",
            "0.480,0.506,5.019,3.665,2.941,2.929,2.945,2.981,1.700,2.616,1.652,1.642,1.645,1.271,0.814,0.643,0.491,0.480,0.493,0.524,0.461,0.469,0.484,0.473,Sharp-Right-Turn\n",
            "0.479,5.000,5.019,3.661,2.943,2.930,2.942,2.996,1.698,2.312,1.653,1.642,1.644,1.274,0.811,0.617,0.491,0.479,0.491,0.575,0.461,0.465,0.484,0.473,Sharp-Right-Turn\n",
            "0.479,5.000,5.020,3.662,2.945,2.931,2.942,2.997,1.700,2.313,1.654,1.642,1.644,1.270,0.908,0.616,0.490,0.478,0.489,0.503,0.460,0.460,0.478,0.473,Slight-Right-Turn\n",
            "0.481,0.508,5.021,3.660,2.954,2.936,2.946,2.966,1.705,2.313,1.654,1.643,1.643,1.270,1.689,0.678,0.493,0.477,0.483,0.497,0.467,0.459,0.476,0.473,Slight-Right-Turn\n",
            "0.486,0.510,0.522,3.662,2.958,2.938,2.939,2.627,1.707,2.314,1.659,1.643,1.639,1.665,1.702,0.696,0.516,0.476,0.477,0.547,0.465,0.457,0.470,0.474,Slight-Right-Turn\n",
            "0.479,0.521,0.520,3.663,2.954,2.938,2.941,2.957,1.712,2.314,1.660,1.643,1.638,1.660,1.758,0.688,0.534,0.475,0.475,0.489,0.461,0.456,0.465,0.474,Slight-Right-Turn\n",
            "0.480,0.554,0.521,3.664,2.954,2.938,2.941,2.632,1.715,2.313,1.660,1.643,1.637,1.656,1.761,0.687,0.553,0.475,0.474,0.558,0.462,0.453,0.465,0.476,Slight-Right-Turn\n",
            "0.481,0.511,5.023,3.665,2.954,2.937,2.941,2.627,1.707,2.312,1.660,1.641,1.636,1.655,1.756,0.687,0.545,0.475,0.475,0.504,0.463,0.458,0.470,0.477,Slight-Right-Turn\n",
            "0.482,0.528,0.524,3.665,2.953,2.937,2.940,2.629,1.706,2.312,1.657,1.640,1.635,1.654,1.756,0.566,0.549,0.475,0.476,0.505,0.464,0.459,0.468,0.477,Slight-Right-Turn\n",
            "0.482,0.529,0.521,3.665,2.956,2.940,2.940,2.627,1.706,2.312,1.656,1.640,1.635,1.654,1.756,0.566,0.556,0.475,0.476,0.502,0.463,0.459,0.468,0.477,Slight-Right-Turn\n",
            "\n"
          ]
        }
      ],
      "source": [
        "# Let's create ssc.\n",
        "ssc = initStreamingContext()\n",
        "# We initialize a DStream by connecting it to a TCP socket.\n",
        "# The server will start sending data which goes to the robotData DStream.\n",
        "robotData = ssc.socketTextStream(\"datasci.cs.uwaterloo.ca\", 4321)\n",
        "robotData.pprint()\n",
        "ssc.start()\n",
        "# Just wait 5 seconds before we stop the stream.\n",
        "time.sleep(5)\n",
        "ssc.stop()\n"
      ]
    },
    {
      "cell_type": "markdown",
      "metadata": {
        "id": "I61flWvt8FLp"
      },
      "source": [
        "### Question 1 (4/10 marks)\n",
        "An important factor for a navigating robot is avoiding obstacles. This is why there are so many sensors on this robot to measure the distance to all surrounding obstacles in all directions. Write a program that every second reports the smallest distances measured in the last 3 seconds by any sensor.\n",
        "\n",
        "\n",
        "For example, if the robot performs the following two measurements in the last 3 seconds:\n",
        "```\n",
        "0.482,0.512,0.524,3.665,2.953,2.940,2.940,2.629,1.709,2.311,1.660,1.640,1.635,1.654,1.755,0.563,0.545,0.475,0.475,0.485,0.464,0.459,0.468,0.478,Slight-Right-Turn\n",
        "0.484,0.514,0.525,3.667,2.954,2.938,2.941,2.957,1.707,2.310,1.658,1.638,1.633,1.652,1.753,0.682,0.535,0.475,0.475,0.544,0.465,0.457,0.469,0.483,Slight-Right-Turn\n",
        "```\n",
        "your program must print:\n",
        "```\n",
        "-------------------------------------------\n",
        "Time: 2020-11-27 23:56:24\n",
        "-------------------------------------------\n",
        "0.457\n",
        "```\n",
        "Note that this is the output for one 3-second window. The program should keep printing the smallest distance for all windows as long as your program is running.\n",
        "\n",
        "All of the calculations must be performed in Spark and not the driver program. You must use `pprint` at the end to print the results.\n",
        "\n",
        "You can consult [this document](https://spark.apache.org/docs/2.2.0/streaming-programming-guide.html) to find more about available transformations on DStreams.\n",
        "\n",
        "\n"
      ]
    },
    {
      "cell_type": "code",
      "execution_count": 5,
      "metadata": {
        "id": "7259HnozDivW",
        "colab": {
          "base_uri": "https://localhost:8080/"
        },
        "outputId": "69d35bee-b105-4145-bf42-edf32b9bc9d9"
      },
      "outputs": [
        {
          "output_type": "stream",
          "name": "stderr",
          "text": [
            "/content/spark-3.4.3-bin-hadoop3/python/pyspark/streaming/context.py:72: FutureWarning: DStream is deprecated as of Spark 3.4.0. Migrate to Structured Streaming.\n",
            "  warnings.warn(\n"
          ]
        },
        {
          "output_type": "stream",
          "name": "stdout",
          "text": [
            "-------------------------------------------\n",
            "Time: 2024-12-04 08:39:05\n",
            "-------------------------------------------\n",
            "\n",
            "-------------------------------------------\n",
            "Time: 2024-12-04 08:39:06\n",
            "-------------------------------------------\n",
            "0.429\n",
            "\n",
            "-------------------------------------------\n",
            "Time: 2024-12-04 08:39:07\n",
            "-------------------------------------------\n",
            "0.429\n",
            "\n"
          ]
        }
      ],
      "source": [
        "ssc = initStreamingContext()\n",
        "robotData = ssc.socketTextStream(\"datasci.cs.uwaterloo.ca\", 4321)\n",
        "#### Your Solution to Question 1 here\n",
        "# Process the data to find the minimum value over a sliding window of 3 seconds\n",
        "def parse_line(line):\n",
        "    return [float(x) for x in line.split(\",\")[:-1]]\n",
        "\n",
        "sensorVals = robotData.map(parse_line)\n",
        "flattenedVals = sensorVals.flatMap(lambda x: x)\n",
        "minVal = flattenedVals.window(3, 1).reduce(lambda x, y: min(x, y))\n",
        "minVal.pprint()\n",
        "\n",
        "ssc.start()\n",
        "# Let's wait for 10 seconds before we stop the program.\n",
        "# Feel free to change this value but make sure you change it back to 10 before submission.\n",
        "time.sleep(10)\n",
        "ssc.stop()"
      ]
    },
    {
      "cell_type": "markdown",
      "metadata": {
        "id": "WwkvRCWmEPZH"
      },
      "source": [
        "### Question 2 (6/10 marks)\n",
        "In this question, you characterize movements of the robot. The last field in every line indicates the movement type. Write a program that every second reports what movements were performed by the robot in the last 3 seconds. You should also report the ratio of each movement. For example, if 10 movements are \"Slight-Right-Turn\" out of 50 movements in the last 3 seconds, your program should print: Slight-Right-Turn 0.2. Finally, the movements should be reported in the descending order of the radios. Make sure you print \"----------\" to indicate the end of each window.\n",
        "\n",
        "\n",
        "Here is an example of the expected output:\n",
        "```\n",
        "Slight-Right-Turn 0.6666666666666666\n",
        "Sharp-Right-Turn 0.3333333333333333\n",
        "----------\n",
        "Sharp-Right-Turn 0.5384615384615384\n",
        "Slight-Right-Turn 0.46153846153846156\n",
        "----------\n",
        "Slight-Right-Turn 0.6590909090909091\n",
        "Sharp-Right-Turn 0.3409090909090909\n",
        "----------\n",
        "Slight-Right-Turn 0.75\n",
        "Sharp-Right-Turn 0.19642857142857142\n",
        "Move-Forward 0.05357142857142857\n",
        "----------\n",
        "```\n",
        "Note that all of these calculations much be performed in Spark and not the driver program. The driver program should only print the final result.\n",
        "\n",
        "**Hint**: since this question asks you to print results with a custom format you cannot use pprint(). Instead, prepare the results using some transformations and at the end use forEachRDD() to collect and print the results. Please look up forEachRDD in the API to learn how it works."
      ]
    },
    {
      "cell_type": "code",
      "execution_count": 7,
      "metadata": {
        "id": "8zq5XvBNGIFN",
        "colab": {
          "base_uri": "https://localhost:8080/"
        },
        "outputId": "1e877ad5-2642-4d82-83ee-70d6bb4b1c0a"
      },
      "outputs": [
        {
          "output_type": "stream",
          "name": "stdout",
          "text": [
            "Slight-Right-Turn 1.0\n",
            "\n",
            "\n",
            "Sharp-Right-Turn 0.5294117647058824\n",
            "Slight-Right-Turn 0.47058823529411764\n",
            "\n",
            "\n",
            "Sharp-Right-Turn 0.5185185185185185\n",
            "Slight-Right-Turn 0.48148148148148145\n",
            "\n",
            "\n",
            "Slight-Right-Turn 0.5333333333333333\n",
            "Sharp-Right-Turn 0.4666666666666667\n",
            "\n",
            "\n"
          ]
        }
      ],
      "source": [
        "from operator import add\n",
        "\n",
        "ssc = initStreamingContext()\n",
        "robotData = ssc.socketTextStream(\"datasci.cs.uwaterloo.ca\", 4321)\n",
        "#### Your Solution to Question 2 here\n",
        "def parse_movement(line):\n",
        "    return line.split(\",\")[-1]\n",
        "\n",
        "movementDir = robotData.map(parse_movement)\n",
        "movementFreq = movementDir.window(3, 1).map(lambda x: (x, 1)).reduceByKey(add)\n",
        "\n",
        "# Calculate the ratio of each movement direction\n",
        "def calculate_ratios(rdd):\n",
        "    counts = rdd.collect()\n",
        "    total = sum([count for _, count in counts])\n",
        "\n",
        "    if total > 0:\n",
        "        ratios = [(movement, count / total) for movement, count in counts]\n",
        "        sortedRatios = sorted(ratios, key=lambda x: x[1], reverse=True)\n",
        "        for movement, ratio in sortedRatios:\n",
        "            print(f\"{movement} {ratio}\")\n",
        "        print(\"\\n\")\n",
        "\n",
        "movementFreq.foreachRDD(calculate_ratios)\n",
        "ssc.start()\n",
        "# Let's wait for 10 seconds before we stop the program.\n",
        "# Feel free to change this value but make sure you change it back to 10 before submission.\n",
        "time.sleep(10)\n",
        "ssc.stop()"
      ]
    },
    {
      "cell_type": "markdown",
      "metadata": {
        "deletable": false,
        "id": "3hVKBrDDi7Oo",
        "tags": [
          "instructions"
        ]
      },
      "source": [
        "---\n",
        "Don't forget to save your workbook!   When you are finished and you are ready to submit your assignment, download your notebook file (.ipynb) from the hub to your machine, and then follow the submission instructions in the assignment."
      ]
    }
  ],
  "metadata": {
    "colab": {
      "provenance": []
    },
    "kernelspec": {
      "display_name": "Python 3",
      "language": "python",
      "name": "python3"
    },
    "language_info": {
      "codemirror_mode": {
        "name": "ipython",
        "version": 3
      },
      "file_extension": ".py",
      "mimetype": "text/x-python",
      "name": "python",
      "nbconvert_exporter": "python",
      "pygments_lexer": "ipython3",
      "version": "3.6.8"
    }
  },
  "nbformat": 4,
  "nbformat_minor": 0
}